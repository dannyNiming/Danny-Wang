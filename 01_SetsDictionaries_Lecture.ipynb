{
  "nbformat": 4,
  "nbformat_minor": 0,
  "metadata": {
    "colab": {
      "name": "01-SetsDictionaries_Lecture.ipynb",
      "provenance": [],
      "include_colab_link": true
    },
    "kernelspec": {
      "name": "python3",
      "display_name": "Python 3"
    },
    "language_info": {
      "name": "python"
    }
  },
  "cells": [
    {
      "cell_type": "markdown",
      "metadata": {
        "id": "view-in-github",
        "colab_type": "text"
      },
      "source": [
        "<a href=\"https://colab.research.google.com/github/dannyNiming/Danny-Wang/blob/main/01_SetsDictionaries_Lecture.ipynb\" target=\"_parent\"><img src=\"https://colab.research.google.com/assets/colab-badge.svg\" alt=\"Open In Colab\"/></a>"
      ]
    },
    {
      "cell_type": "markdown",
      "metadata": {
        "id": "9I-W9M91wKFP"
      },
      "source": [
        "# Sets and Dictionaries\n",
        "Session 3 - part 1 \n",
        "<br>07/13/2021"
      ]
    },
    {
      "cell_type": "markdown",
      "metadata": {
        "id": "z6Z5hP2CwXnk"
      },
      "source": [
        "## Sets\n",
        "Sets are unordered and unindexed collection of data. Because of this, they cannot accept duplicates. Let's see some examples:"
      ]
    },
    {
      "cell_type": "code",
      "metadata": {
        "id": "iGGlQdCUgI24"
      },
      "source": [
        "x=[1,2,3,4,5,5,5,6,2,1]\n",
        "y=[4,9,7,8,8,4,5,4,6]"
      ],
      "execution_count": 1,
      "outputs": []
    },
    {
      "cell_type": "code",
      "metadata": {
        "id": "nGkX2zlVxWJN",
        "outputId": "99dac408-043e-495a-98db-3a6f9f7bbfa7",
        "colab": {
          "base_uri": "https://localhost:8080/"
        }
      },
      "source": [
        "print(type(x), type(y))\n",
        "print(x)\n",
        "print(y)"
      ],
      "execution_count": 2,
      "outputs": [
        {
          "output_type": "stream",
          "text": [
            "<class 'list'> <class 'list'>\n",
            "[1, 2, 3, 4, 5, 5, 5, 6, 2, 1]\n",
            "[4, 9, 7, 8, 8, 4, 5, 4, 6]\n"
          ],
          "name": "stdout"
        }
      ]
    },
    {
      "cell_type": "code",
      "metadata": {
        "id": "m0k4qgvExZTY"
      },
      "source": [
        "# Let's make these into sets!\n",
        "xset = set(x)\n",
        "yset = set(y)"
      ],
      "execution_count": 4,
      "outputs": []
    },
    {
      "cell_type": "code",
      "metadata": {
        "id": "Hp5o8dFDxj5I",
        "outputId": "9dc84435-9682-4854-8f0e-fe6aba57c23d",
        "colab": {
          "base_uri": "https://localhost:8080/"
        }
      },
      "source": [
        "xset\n",
        "yset"
      ],
      "execution_count": 6,
      "outputs": [
        {
          "output_type": "execute_result",
          "data": {
            "text/plain": [
              "{4, 5, 6, 7, 8, 9}"
            ]
          },
          "metadata": {
            "tags": []
          },
          "execution_count": 6
        }
      ]
    },
    {
      "cell_type": "code",
      "metadata": {
        "id": "3k2O5wbtxk5l"
      },
      "source": [
        "type(xset)"
      ],
      "execution_count": null,
      "outputs": []
    },
    {
      "cell_type": "code",
      "metadata": {
        "id": "N1vPe3ocx1Ju"
      },
      "source": [
        "len(xset)"
      ],
      "execution_count": null,
      "outputs": []
    },
    {
      "cell_type": "markdown",
      "metadata": {
        "id": "MuWQGK6Ax5_h"
      },
      "source": [
        "## Methods of Sets\n",
        "\n",
        "There are many, but let's look at three most used:"
      ]
    },
    {
      "cell_type": "code",
      "metadata": {
        "id": "i4oHodzcx2oD"
      },
      "source": [
        "print(xset)\n",
        "print(yset)\n",
        "# Union\n",
        "xset.union(yset)"
      ],
      "execution_count": null,
      "outputs": []
    },
    {
      "cell_type": "code",
      "metadata": {
        "id": "wDn27Nf2ytzO"
      },
      "source": [
        "# What do you think about the check below: True or False?\n",
        "# xset.union(yset) == yset.union(xset)"
      ],
      "execution_count": null,
      "outputs": []
    },
    {
      "cell_type": "code",
      "metadata": {
        "id": "YlhiJruHyyrp"
      },
      "source": [
        "# Intersection \n",
        "xset.intersection(yset)"
      ],
      "execution_count": null,
      "outputs": []
    },
    {
      "cell_type": "code",
      "metadata": {
        "id": "4OVWyvCOzENl"
      },
      "source": [
        "#What do you think about the check below? True or False? \n",
        "#yset.intersection(xset) == xset.intersection(yset)"
      ],
      "execution_count": null,
      "outputs": []
    },
    {
      "cell_type": "code",
      "metadata": {
        "id": "UnUrqiE8zG41"
      },
      "source": [
        "## Difference\n",
        "xset.difference(yset)"
      ],
      "execution_count": null,
      "outputs": []
    },
    {
      "cell_type": "code",
      "metadata": {
        "id": "-0vv1N42zhMF"
      },
      "source": [
        "#What do you think about the check below? True or False? \n",
        "#xset.difference(yset) == yset.difference(xset)"
      ],
      "execution_count": null,
      "outputs": []
    },
    {
      "cell_type": "markdown",
      "metadata": {
        "id": "7XyBVbN20qgG"
      },
      "source": [
        "Some more notes about sets: "
      ]
    },
    {
      "cell_type": "code",
      "metadata": {
        "id": "sPQZuL4M0I8i",
        "outputId": "aec03eac-e57c-4fa9-ac6b-6024cebc4ea7",
        "colab": {
          "base_uri": "https://localhost:8080/"
        }
      },
      "source": [
        "# Do sets accept elements of different types?\n",
        "set1 = {'a',1,1.2}\n",
        "set1"
      ],
      "execution_count": 7,
      "outputs": [
        {
          "output_type": "execute_result",
          "data": {
            "text/plain": [
              "{1, 1.2, 'a'}"
            ]
          },
          "metadata": {
            "tags": []
          },
          "execution_count": 7
        }
      ]
    },
    {
      "cell_type": "code",
      "metadata": {
        "id": "-DGFT4QX0XAe",
        "outputId": "3dc1e2f8-42d4-4b08-e0a6-27cd13a4c76c",
        "colab": {
          "base_uri": "https://localhost:8080/"
        }
      },
      "source": [
        "# Do sets accept duplicates?\n",
        "set2 = {'b', 1, 1}\n",
        "set2"
      ],
      "execution_count": 8,
      "outputs": [
        {
          "output_type": "execute_result",
          "data": {
            "text/plain": [
              "{1, 'b'}"
            ]
          },
          "metadata": {
            "tags": []
          },
          "execution_count": 8
        }
      ]
    },
    {
      "cell_type": "code",
      "metadata": {
        "id": "Zw0rxDBw0yWN",
        "colab": {
          "base_uri": "https://localhost:8080/"
        },
        "outputId": "2c6c4b48-f0f5-4f6c-8b1e-1b20f74be827"
      },
      "source": [
        "# What is the length of the following set?\n",
        "set3 = {'c',0, False, 2.0}\n",
        "print(set3)\n",
        "set4 = {'c',1, True, 2.0}\n",
        "print(set4)"
      ],
      "execution_count": 31,
      "outputs": [
        {
          "output_type": "stream",
          "text": [
            "{0, 2.0, 'c'}\n",
            "{1, 2.0, 'c'}\n"
          ],
          "name": "stdout"
        }
      ]
    },
    {
      "cell_type": "code",
      "metadata": {
        "colab": {
          "base_uri": "https://localhost:8080/"
        },
        "id": "R-_9gRyruJwF",
        "outputId": "ba0e647a-1dca-4362-82f0-e8be2880d990"
      },
      "source": [
        "# A familiar operation works for sets too, but with a twist!\n",
        "#set3.pop()\n",
        "set3.union({False})"
      ],
      "execution_count": 28,
      "outputs": [
        {
          "output_type": "execute_result",
          "data": {
            "text/plain": [
              "{1, 2.0, False, 'c'}"
            ]
          },
          "metadata": {
            "tags": []
          },
          "execution_count": 28
        }
      ]
    },
    {
      "cell_type": "markdown",
      "metadata": {
        "id": "2EFFYu8P0BA9"
      },
      "source": [
        "Now that you know about sets and some basic operations, can you think of a usecase of sets in a business setting?"
      ]
    },
    {
      "cell_type": "markdown",
      "metadata": {
        "id": "LshiVim011P_"
      },
      "source": [
        "## Dictionaries\n",
        "Dictionaries are one of the four built in data types that are used to store a collection of data. Unlike all the data structures we have seen, dictionaries are very structured, the data is stored in key:value pairs, just like in a dictionary! As expected, dictionaries do not accept duplicates.\n",
        "\n",
        "\n",
        "(From Python 3.7 onwards, dictionaries are supposed to preserve the key insertion order but please check the implementation you are working with before relying on this!)\n",
        "\n",
        "\n",
        "Let's see some examples:"
      ]
    },
    {
      "cell_type": "code",
      "metadata": {
        "id": "Ei8RzQx9zpIi",
        "colab": {
          "base_uri": "https://localhost:8080/"
        },
        "outputId": "c906a481-14c2-46ec-9cdb-7177f26523d9"
      },
      "source": [
        "d = { 'online':True, \n",
        "     'courseName':'ba765',  \n",
        "     'totStudents': 100, \n",
        "     3:['A','B','C']}\n",
        "print(type(d))\n",
        "d"
      ],
      "execution_count": null,
      "outputs": [
        {
          "output_type": "stream",
          "text": [
            "<class 'dict'>\n"
          ],
          "name": "stdout"
        },
        {
          "output_type": "execute_result",
          "data": {
            "text/plain": [
              "{3: ['A', 'B', 'C'], 'courseName': 'ba765', 'online': True, 'totStudents': 100}"
            ]
          },
          "metadata": {
            "tags": []
          },
          "execution_count": 13
        }
      ]
    },
    {
      "cell_type": "code",
      "metadata": {
        "id": "S4_y2Zvj3cdZ"
      },
      "source": [
        "d.keys()"
      ],
      "execution_count": null,
      "outputs": []
    },
    {
      "cell_type": "code",
      "metadata": {
        "id": "LQ1xcyX55iBV"
      },
      "source": [
        "list(d.keys())"
      ],
      "execution_count": null,
      "outputs": []
    },
    {
      "cell_type": "code",
      "metadata": {
        "id": "TYw4QI6M52AJ"
      },
      "source": [
        "# Deleting a key \n",
        "del d['online']"
      ],
      "execution_count": null,
      "outputs": []
    },
    {
      "cell_type": "code",
      "metadata": {
        "id": "4eW2yHuk6Drp"
      },
      "source": [
        "# Adding a key\n",
        "d['LfA'] = True"
      ],
      "execution_count": null,
      "outputs": []
    },
    {
      "cell_type": "markdown",
      "metadata": {
        "id": "NXRcEyNA-Jc-"
      },
      "source": [
        "\n",
        "\n",
        "---\n",
        "\n"
      ]
    },
    {
      "cell_type": "code",
      "metadata": {
        "id": "3G0fbIhu5o9w"
      },
      "source": [
        "#Accessing values in a dictionary\n",
        "d['online']"
      ],
      "execution_count": null,
      "outputs": []
    },
    {
      "cell_type": "code",
      "metadata": {
        "id": "6skYIa725uyE"
      },
      "source": [
        "d[3]"
      ],
      "execution_count": null,
      "outputs": []
    },
    {
      "cell_type": "code",
      "metadata": {
        "id": "bo9D1FuC6QO2"
      },
      "source": [
        "#How about changing the values of the keys?\n",
        "d['LfA'] = False\n",
        "d['LfA']"
      ],
      "execution_count": null,
      "outputs": []
    },
    {
      "cell_type": "code",
      "metadata": {
        "id": "ySqepDGF6eFu"
      },
      "source": [
        "# There is another way of accessing the value of a key\n",
        "# which also allows us to set a default value:\n",
        "d.get('instructor', 'TBD')"
      ],
      "execution_count": null,
      "outputs": []
    },
    {
      "cell_type": "code",
      "metadata": {
        "id": "dn7Zmb-w7SQB"
      },
      "source": [
        "# Further checks about existince of a key:\n",
        "'courseName' in d"
      ],
      "execution_count": null,
      "outputs": []
    },
    {
      "cell_type": "code",
      "metadata": {
        "id": "9mnoJJY071u0"
      },
      "source": [
        "'instructor' not in d"
      ],
      "execution_count": null,
      "outputs": []
    },
    {
      "cell_type": "markdown",
      "metadata": {
        "id": "B60Y2Y6x_QOB"
      },
      "source": [
        "\n",
        "\n",
        "---\n",
        "\n"
      ]
    },
    {
      "cell_type": "code",
      "metadata": {
        "id": "VQlzlpJV78ub"
      },
      "source": [
        "# We have worked enough with keys, \n",
        "# let's take a look at things we can do with values\n",
        "\n",
        "d.values()"
      ],
      "execution_count": null,
      "outputs": []
    },
    {
      "cell_type": "code",
      "metadata": {
        "id": "FqnO3yp98VII"
      },
      "source": [
        "list(d.values())"
      ],
      "execution_count": null,
      "outputs": []
    },
    {
      "cell_type": "code",
      "metadata": {
        "id": "kHCG9ucL8yu2"
      },
      "source": [
        "# .. or items:\n",
        "d.items()"
      ],
      "execution_count": null,
      "outputs": []
    },
    {
      "cell_type": "code",
      "metadata": {
        "id": "-5fDsjAl814K"
      },
      "source": [
        "list(d.items())"
      ],
      "execution_count": null,
      "outputs": []
    },
    {
      "cell_type": "code",
      "metadata": {
        "id": "KEny-A9684xG"
      },
      "source": [
        "# Updating a dictionary by adding a new item, aka k:v pair:\n",
        "d.update({'rating':4.95})\n",
        "print(d)\n"
      ],
      "execution_count": null,
      "outputs": []
    },
    {
      "cell_type": "code",
      "metadata": {
        "id": "bvq_ntLm9FQP"
      },
      "source": [
        "# Using the update function to update an existing k:v pair:\n",
        "d.update({'LfA':True})\n",
        "d['LfA']"
      ],
      "execution_count": null,
      "outputs": []
    },
    {
      "cell_type": "code",
      "metadata": {
        "id": "L8MR1ep39hD_"
      },
      "source": [
        "# We already saw how to remove a k:v pair\n",
        "del d['LfA']"
      ],
      "execution_count": null,
      "outputs": []
    },
    {
      "cell_type": "code",
      "metadata": {
        "id": "aMSZ-DTa9u3u"
      },
      "source": [
        "# but we can also clear the whole dictionary:\n",
        "d.clear()"
      ],
      "execution_count": null,
      "outputs": []
    },
    {
      "cell_type": "code",
      "metadata": {
        "id": "UxF32BuR9y4z"
      },
      "source": [
        "print(d)"
      ],
      "execution_count": null,
      "outputs": []
    },
    {
      "cell_type": "code",
      "metadata": {
        "id": "nCP3zGiI9043"
      },
      "source": [
        "# if we want to get rid of it completely:\n",
        "del d"
      ],
      "execution_count": null,
      "outputs": []
    },
    {
      "cell_type": "code",
      "metadata": {
        "id": "0pbi88Gy95tf"
      },
      "source": [
        "print(d)"
      ],
      "execution_count": null,
      "outputs": []
    },
    {
      "cell_type": "markdown",
      "metadata": {
        "id": "89bR8Ete_iMx"
      },
      "source": [
        "#### Quick exercise:\n",
        "\n",
        "Define a dictionary that has    \n",
        "\n",
        "*   'a' list of values from 1 to 5\n",
        "*   'b' tuple of your first and last name\n",
        "*  765 that as your age as a float\n",
        "\n",
        "Then:\n",
        "*  confirm that it is a dictionary \n",
        "*  print out the keys as a list.\n",
        "\n",
        "\n",
        "\n"
      ]
    },
    {
      "cell_type": "code",
      "metadata": {
        "id": "aREzqez8Aj4W",
        "outputId": "d3ff7b51-161e-49cd-a565-c8dc0b17cf8e",
        "colab": {
          "base_uri": "https://localhost:8080/"
        }
      },
      "source": [
        "# your code here\n",
        "d = dict({})\n",
        "d['a'] = [1,2,3,4,5]\n",
        "d['b'] = ['Niming','Wang']\n",
        "d[765] = 23.0\n",
        "print(d)\n"
      ],
      "execution_count": 35,
      "outputs": [
        {
          "output_type": "stream",
          "text": [
            "{'a': [1, 2, 3, 4, 5], 'b': ['Niming', 'Wang'], 765: 23.0}\n"
          ],
          "name": "stdout"
        }
      ]
    },
    {
      "cell_type": "markdown",
      "metadata": {
        "id": "wd-nC8uOHMdz"
      },
      "source": [
        "\n",
        "## Interlude to Python with some git \n",
        "---\n",
        "\n",
        "That is all for now for dictionaries and sets! Hope you enjoyed these new data structures and can think of interesting ways of using them!\n",
        "\n",
        "Now we'll take a break with some git, with Github Desktop and VS Code.\n",
        "\n",
        "- git clone \\<repo path here.git\\>\n",
        "- git status\n",
        "- git add \\<filename>\n",
        "- git commit\n",
        "- git push\n",
        "- git config --global user.email \"your-email-here\"\n",
        "- git config --global user.name \"Your name here\"\n"
      ]
    }
  ]
}