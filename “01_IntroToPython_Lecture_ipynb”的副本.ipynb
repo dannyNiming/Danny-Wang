{
  "nbformat": 4,
  "nbformat_minor": 0,
  "metadata": {
    "colab": {
      "name": "“01-IntroToPython_Lecture.ipynb”的副本",
      "provenance": [],
      "collapsed_sections": [],
      "toc_visible": true,
      "include_colab_link": true
    },
    "kernelspec": {
      "display_name": "Python 3",
      "language": "python",
      "name": "python3"
    },
    "language_info": {
      "codemirror_mode": {
        "name": "ipython",
        "version": 3
      },
      "file_extension": ".py",
      "mimetype": "text/x-python",
      "name": "python",
      "nbconvert_exporter": "python",
      "pygments_lexer": "ipython3",
      "version": "3.7.6"
    }
  },
  "cells": [
    {
      "cell_type": "markdown",
      "metadata": {
        "id": "view-in-github",
        "colab_type": "text"
      },
      "source": [
        "<a href=\"https://colab.research.google.com/github/dannyNiming/Danny-Wang/blob/main/%E2%80%9C01_IntroToPython_Lecture_ipynb%E2%80%9D%E7%9A%84%E5%89%AF%E6%9C%AC.ipynb\" target=\"_parent\"><img src=\"https://colab.research.google.com/assets/colab-badge.svg\" alt=\"Open In Colab\"/></a>"
      ]
    },
    {
      "cell_type": "markdown",
      "metadata": {
        "id": "zZnwr37ibmF7"
      },
      "source": [
        "# BA765: Programming for Data Science\n",
        "\n",
        "## Session 2 : Intro to Python \n",
        "\n",
        "**Summer 2021**\n",
        "\n",
        "July 8, 2021\n",
        "\n",
        "---"
      ]
    },
    {
      "cell_type": "markdown",
      "metadata": {
        "id": "Mu3UWtRqbmF_"
      },
      "source": [
        "### A very brief introduction to Python\n",
        "\n",
        "As [Wikipedia puts it](https://en.wikipedia.org/wiki/Python_(programming_language)), Python is an interpreted, high-level, general-purpose programming language. Python compels its user to follow a distinct style emphasizing code readability. The most apparent example is the use of whitespace indentation instead of brackets, braces, or heavy use of punctuation marks. It is a style that slowly grows on you. So, if you feel constrained by it, give Python a chance and you most likely will start enjoying it. Afterall, Python is the worlds most popular programming language [according to GitHub](http://pypl.github.io/PYPL.html).\n",
        "\n",
        "Being an open-source language it is being made more and more useful through all the immensity of libraries and modules that extend its functionality way beyond what comes built-in. Using these modules is often as easy as typing `import <module_name>`. On a different note, like any open-source project Python has its share of frivolous in-jokes, such as the one presented below. "
      ]
    },
    {
      "cell_type": "code",
      "metadata": {
        "id": "OpMmK-bEbmGA"
      },
      "source": [
        "import this"
      ],
      "execution_count": null,
      "outputs": []
    },
    {
      "cell_type": "markdown",
      "metadata": {
        "id": "YZLOT7aVbmGB"
      },
      "source": [
        "### 1. Some basic built-in python syntax and functions "
      ]
    },
    {
      "cell_type": "markdown",
      "metadata": {
        "id": "7AijFOYtQ-9R"
      },
      "source": [
        "#### 1.1 Hello, World!\n",
        "\n",
        "Let's start with the classic program that is traditionally used to introduce any language; printing the letters `Hello, World!` on the screen.\n",
        "\n",
        "Note that # character indicates a comment, that line is not executed!"
      ]
    },
    {
      "cell_type": "code",
      "metadata": {
        "id": "oT-p1YkareP0",
        "colab": {
          "base_uri": "https://localhost:8080/"
        },
        "outputId": "0e9ed6e9-3bdc-49fc-ec27-06a772cf6475"
      },
      "source": [
        "# Type-in \"Hello, World!\"\n",
        "print(\"Hello, World!\")"
      ],
      "execution_count": null,
      "outputs": [
        {
          "output_type": "stream",
          "text": [
            "Hello, World!\n"
          ],
          "name": "stdout"
        }
      ]
    },
    {
      "cell_type": "code",
      "metadata": {
        "id": "TtRBfW0EbmGD",
        "colab": {
          "base_uri": "https://localhost:8080/"
        },
        "outputId": "d970e91a-a0a9-4737-881d-24f4cc2b8271"
      },
      "source": [
        "# print your name\n",
        "\n",
        "print(\"GuGu Piggy\")"
      ],
      "execution_count": null,
      "outputs": [
        {
          "output_type": "stream",
          "text": [
            "GuGu Piggy\n"
          ],
          "name": "stdout"
        }
      ]
    },
    {
      "cell_type": "markdown",
      "metadata": {
        "id": "ZTuSm37UbmGD"
      },
      "source": [
        "__________________________________________________________________________________________________________________________"
      ]
    },
    {
      "cell_type": "markdown",
      "metadata": {
        "id": "6Zl0cv4gbmGD"
      },
      "source": [
        "#### 1.2 Python's basic data types\n",
        "\n",
        "Basic data types in python include:\n",
        "    \n",
        "- Boolean (bool)  \n",
        "    - example: True, False <br> <br>\n",
        "\n",
        "- Integer (int)  \n",
        "    - example: 2020 <br> <br>\n",
        "\n",
        "- Floating point (float)\n",
        "    - example: 32.56, 4.5e2 <br> <br>\n",
        "\n",
        "- Text string (str)  \n",
        "    - example: \"I\", 'love', '''Python'''  <br> <br>\n",
        "\n",
        "- List (list)\n",
        "    - example: ['Paris', 'Abuja', 'Hanoi', '2021'] <br> <br>\n",
        " ***Note***: python lists can contain values corresponding to different data types; <br>\n",
        "    but arrays in python can only contain values corresponding to same data type. <br>\n",
        "  \n",
        "    <br> <br>\n",
        "    \n",
        "- Tuple (tuple) \n",
        "    - example: (1,2,3,4) ; <br> Note: tuples are immutable   <br> <br>\n",
        "     "
      ]
    },
    {
      "cell_type": "markdown",
      "metadata": {
        "id": "jDCy_VlBbmGD"
      },
      "source": [
        "There is a built-in python function `type()` that returns the type of the python object"
      ]
    },
    {
      "cell_type": "markdown",
      "metadata": {
        "id": "QRMWDpvpbmGE"
      },
      "source": [
        "**Simple exercise:**\n",
        "Write a few python objects: a boolean, an integer, a float, a string, a list, and a tuple, and use the built-in function `type()` to check if your python object is indeed what you expected. "
      ]
    },
    {
      "cell_type": "code",
      "metadata": {
        "id": "yOhtezlTbmGE"
      },
      "source": [
        "# Example:\n",
        "# write a boolean\n",
        "True"
      ],
      "execution_count": null,
      "outputs": []
    },
    {
      "cell_type": "code",
      "metadata": {
        "id": "A6_vw6_VbmGF"
      },
      "source": [
        "# Example:\n",
        "# use the \"type()\" built-in python function to check if the boolean value of the previous example is indeed boolean\n",
        "\n",
        "type(True)"
      ],
      "execution_count": null,
      "outputs": []
    },
    {
      "cell_type": "code",
      "metadata": {
        "id": "rCzaHBh4hGq2"
      },
      "source": [
        "#Handy feature: The question mark\n",
        "x=True\n",
        "x?"
      ],
      "execution_count": null,
      "outputs": []
    },
    {
      "cell_type": "code",
      "metadata": {
        "id": "ty6WWOjgbmGF"
      },
      "source": [
        "# write (and check) an integer\n"
      ],
      "execution_count": null,
      "outputs": []
    },
    {
      "cell_type": "code",
      "metadata": {
        "id": "KmvZAtu9bmGG"
      },
      "source": [
        "# write (and check) a float (real number)\n",
        "type(3.14e2)"
      ],
      "execution_count": null,
      "outputs": []
    },
    {
      "cell_type": "code",
      "metadata": {
        "id": "ZKzz6wHtbmGG"
      },
      "source": [
        "# write (and check) a string\n"
      ],
      "execution_count": null,
      "outputs": []
    },
    {
      "cell_type": "code",
      "metadata": {
        "id": "p7asEOPIbmGG"
      },
      "source": [
        "# write (and check) a list\n"
      ],
      "execution_count": null,
      "outputs": []
    },
    {
      "cell_type": "code",
      "metadata": {
        "id": "Zexwj2nDbmGH"
      },
      "source": [
        "# write (and check) a tuple\n"
      ],
      "execution_count": null,
      "outputs": []
    },
    {
      "cell_type": "markdown",
      "metadata": {
        "id": "zmnE3LZJbmGH"
      },
      "source": [
        "__________________________________________________________________________________________________________________________"
      ]
    },
    {
      "cell_type": "markdown",
      "metadata": {
        "id": "u1zVoc1nrXDe"
      },
      "source": [
        "#### 1.3 Variables: specifying data values in python\n",
        " \n"
      ]
    },
    {
      "cell_type": "markdown",
      "metadata": {
        "id": "74VVrcqtbmGI"
      },
      "source": [
        "***Example:***"
      ]
    },
    {
      "cell_type": "code",
      "metadata": {
        "id": "UNZEeYFcQ7al"
      },
      "source": [
        "# Assigning strings to variables \n",
        "\n",
        "x = \"Hello\"\n",
        "y = \"World\"\n",
        "print(x)\n",
        "print(y)\n",
        "print(x, y)\n",
        "print(x, y, \"!\")\n",
        "print(x, y + \"!\")"
      ],
      "execution_count": null,
      "outputs": []
    },
    {
      "cell_type": "code",
      "metadata": {
        "id": "sQAWHjuBbmGI"
      },
      "source": [
        "# Assigning numerical values to variables\n",
        "\n",
        "num1 = 5\n",
        "num2 = 7\n",
        "\n",
        "print(num1 + num2)"
      ],
      "execution_count": null,
      "outputs": []
    },
    {
      "cell_type": "markdown",
      "metadata": {
        "id": "37V6NqvlbmGJ"
      },
      "source": [
        "**Naming variables in python**\n",
        "\n",
        "The rules:\n",
        "    \n",
        "- You can use lowercase letters (a through z)\n",
        "- You can use UPPERCASE letters (A through Z)\n",
        "- You can use digits (0 through 9)\n",
        "- You can use the underscore (_)\n",
        "- Names are case sensitive (boston, Boston, and BOSTON are different names)\n",
        "- Names must begin with a letter or an underscore, not a digit\n",
        "- Names that begin with an underscore are treated specially\n",
        "- Names cannot be one of python's reserved words. "
      ]
    },
    {
      "cell_type": "markdown",
      "metadata": {
        "id": "8IchboLGbmGK"
      },
      "source": [
        "##### Python's reserved words\n",
        "\n",
        "Python reserves some names to be keywords, please do not use these as names of your variables. Run the cell below to list all the reserved keywords."
      ]
    },
    {
      "cell_type": "code",
      "metadata": {
        "id": "grcX6dKzbmGK"
      },
      "source": [
        "from keyword import kwlist\n",
        "print(kwlist)"
      ],
      "execution_count": null,
      "outputs": []
    },
    {
      "cell_type": "markdown",
      "metadata": {
        "id": "zzaZcdc5bmGK"
      },
      "source": [
        "______________________________________________________________________________________________________________________________"
      ]
    },
    {
      "cell_type": "markdown",
      "metadata": {
        "id": "Vl2EFaVgR-Sa"
      },
      "source": [
        "#### 1.4 Numerical Operations\n",
        "\n",
        "Python has the basic numerical operations that makes it a quick calculator -- **but** note that we will use more advanced, math specific libraries for our data science needs!"
      ]
    },
    {
      "cell_type": "markdown",
      "metadata": {
        "id": "Ix-_oUjybmGL"
      },
      "source": [
        "***Simple Exercise: run the following cells*** "
      ]
    },
    {
      "cell_type": "code",
      "metadata": {
        "id": "sjliqZo4SRxy"
      },
      "source": [
        "# Addition\n",
        "7 + 3"
      ],
      "execution_count": null,
      "outputs": []
    },
    {
      "cell_type": "code",
      "metadata": {
        "id": "zabeBzYWehvT"
      },
      "source": [
        "# Subtraction\n",
        "7 - 3"
      ],
      "execution_count": null,
      "outputs": []
    },
    {
      "cell_type": "code",
      "metadata": {
        "id": "T7bTAp_7eWBg"
      },
      "source": [
        "# Multiplication\n",
        "7 * 3"
      ],
      "execution_count": null,
      "outputs": []
    },
    {
      "cell_type": "code",
      "metadata": {
        "id": "HOP4jg9ceY0g"
      },
      "source": [
        "# Division (floating-point division or decimal division)\n",
        "7 / 3"
      ],
      "execution_count": null,
      "outputs": []
    },
    {
      "cell_type": "code",
      "metadata": {
        "id": "SnOs894kbmGM"
      },
      "source": [
        "# or, by assigning these numbers to variables\n",
        "\n",
        "x = 7\n",
        "\n",
        "y = 3\n",
        "\n",
        "z = x/y\n",
        "\n",
        "print(z)"
      ],
      "execution_count": null,
      "outputs": []
    },
    {
      "cell_type": "code",
      "metadata": {
        "id": "KCx0ZFRGnwuE"
      },
      "source": [
        "# Quotient from floor division (integer division or truncating division)\n",
        "7 // 3"
      ],
      "execution_count": null,
      "outputs": []
    },
    {
      "cell_type": "code",
      "metadata": {
        "id": "MrkGnEhLecCx"
      },
      "source": [
        "# Modulo (remainder)\n",
        "7 % 3"
      ],
      "execution_count": null,
      "outputs": []
    },
    {
      "cell_type": "code",
      "metadata": {
        "id": "Z_Ts5ZwbfWz1"
      },
      "source": [
        "# Power (Exponentiation)\n",
        "x ** 3"
      ],
      "execution_count": null,
      "outputs": []
    },
    {
      "cell_type": "markdown",
      "metadata": {
        "id": "lIVFBik0bmGN"
      },
      "source": [
        "______________________________________________________________________________________________________________________________\n"
      ]
    },
    {
      "cell_type": "markdown",
      "metadata": {
        "id": "3o1_POmUbmGO"
      },
      "source": [
        "**Exercise:** \n",
        "\n",
        "As of yesterday, there were 663,994 Covid-19 reported cases in Massachusetts (source: mass.gov). \n",
        "\n",
        "The population of Massachusetts is 6,892,503  (estimate, July 1, 2019, source: Wikipedia and Census.org). \n",
        "\n",
        "Use python as calculator to calculate the number of Covid-19 cases per million ($10^6$) population, in Massachusetts."
      ]
    },
    {
      "cell_type": "code",
      "metadata": {
        "id": "EukcnTQobmGO",
        "colab": {
          "base_uri": "https://localhost:8080/"
        },
        "outputId": "41d40d76-7c44-4813-d8d8-f13254715b21"
      },
      "source": [
        "# your code here\n",
        "x=663994\n",
        "y=6892503\n",
        "z=10 ** 6\n",
        "a=x/y*z\n",
        "print(a)"
      ],
      "execution_count": null,
      "outputs": [
        {
          "output_type": "stream",
          "text": [
            "96335.68530909599\n"
          ],
          "name": "stdout"
        }
      ]
    },
    {
      "cell_type": "markdown",
      "metadata": {
        "id": "vNZly0HHbmGO"
      },
      "source": [
        "___________________________________________________________________________________________________________________________"
      ]
    },
    {
      "cell_type": "markdown",
      "metadata": {
        "id": "QunDBW-kbmGO"
      },
      "source": [
        "#### 1.5 Python's comparison operators"
      ]
    },
    {
      "cell_type": "markdown",
      "metadata": {
        "id": "wTafyzTCbmGP"
      },
      "source": [
        "- Equality: ==\n",
        "\n",
        "- Inequality: !=\n",
        "\n",
        "- Less than: <\n",
        "\n",
        "- Less than or equal: <=\n",
        "\n",
        "- Greater than: >\n",
        "\n",
        "- Greater than or equal: >="
      ]
    },
    {
      "cell_type": "code",
      "metadata": {
        "id": "xyOAoU00lkXe"
      },
      "source": [
        "#Comparisons and boolean go well together\n",
        "# Try this - can you guess the result before running the code?\n",
        "a=True\n",
        "b=False\n",
        "d=(a==b)\n",
        "d==b"
      ],
      "execution_count": null,
      "outputs": []
    },
    {
      "cell_type": "code",
      "metadata": {
        "id": "KmD4cgCpmR_G"
      },
      "source": [
        "# EXERCISE: try TRUE or FALSE with numbers\n",
        "\n",
        "x1=3\n",
        "x2=4\n",
        "y1=5\n",
        "y2=1\n",
        "\n",
        "check=(x1+x2)==(y1+y2)\n",
        "if check:\n",
        "    print('Sum is equal to:', (x1+x2))\n",
        "else:\n",
        "    print('Error: sums not equal!')"
      ],
      "execution_count": null,
      "outputs": []
    },
    {
      "cell_type": "code",
      "metadata": {
        "id": "9-2HfyXmmhLi"
      },
      "source": [
        "# More logical operations - can you guess the result before running the code?\n",
        "x = 3\n",
        "y = 6\n",
        "print(x > y)\n",
        "print(y > x)\n",
        "print(x == y)\n",
        "print(y != x)"
      ],
      "execution_count": null,
      "outputs": []
    },
    {
      "cell_type": "markdown",
      "metadata": {
        "id": "1dp3uNv0fvI4"
      },
      "source": [
        "\n",
        "\n",
        "---\n",
        "\n"
      ]
    },
    {
      "cell_type": "markdown",
      "metadata": {
        "id": "Z6CJLM9kfNwr"
      },
      "source": [
        "#### 1.6 Strings\n",
        "Python strings are more than just some of characters, they are *objects* with functions"
      ]
    },
    {
      "cell_type": "code",
      "metadata": {
        "id": "0gZWKvXEfy-A"
      },
      "source": [
        "\"This is a string\""
      ],
      "execution_count": null,
      "outputs": []
    },
    {
      "cell_type": "code",
      "metadata": {
        "colab": {
          "base_uri": "https://localhost:8080/"
        },
        "id": "mCaNFhVIgdcn",
        "outputId": "99997008-eccc-4658-bef2-2a92c57b9cf3"
      },
      "source": [
        "a=\"This is my string\"\n",
        "b='This is ALSO my string'\n",
        "c='''This, too, is MY String''' \n",
        "print(a)\n",
        "print(b)\n",
        "print(c)"
      ],
      "execution_count": null,
      "outputs": [
        {
          "output_type": "stream",
          "text": [
            "This is my string\n",
            "This is ALSO my string\n",
            "This, too, is MY String\n"
          ],
          "name": "stdout"
        }
      ]
    },
    {
      "cell_type": "markdown",
      "metadata": {
        "id": "y9s6gWuPg8v-"
      },
      "source": [
        "Let's use some of the methods of the string object, namely, `split`, `upper` and `lower`:"
      ]
    },
    {
      "cell_type": "code",
      "metadata": {
        "id": "lBDFy-Hdhnun"
      },
      "source": [
        "a.split()"
      ],
      "execution_count": null,
      "outputs": []
    },
    {
      "cell_type": "code",
      "metadata": {
        "id": "_QIP3aylhsNe"
      },
      "source": [
        "b.upper()"
      ],
      "execution_count": null,
      "outputs": []
    },
    {
      "cell_type": "code",
      "metadata": {
        "id": "RkFNabgQhtlD"
      },
      "source": [
        "c.lower()"
      ],
      "execution_count": null,
      "outputs": []
    },
    {
      "cell_type": "code",
      "metadata": {
        "id": "fksTPAE17aXv"
      },
      "source": [
        "print(a.isalnum() , b.isnumeric())\n",
        "print(c.split())\n",
        "print(c.split(','))"
      ],
      "execution_count": null,
      "outputs": []
    },
    {
      "cell_type": "markdown",
      "metadata": {
        "id": "MtTPXOk3h7m9"
      },
      "source": [
        "**Exercise**\n",
        "\n",
        "\n",
        "*   Define a string called course_number and set it to 765\n",
        "*   Define a string that is equal to \"Programming for Data Science\"\n",
        "*   Change the course title to upper and lower case\n",
        "\n"
      ]
    },
    {
      "cell_type": "code",
      "metadata": {
        "id": "2tEhUwYPiqy4",
        "colab": {
          "base_uri": "https://localhost:8080/"
        },
        "outputId": "6eca41be-277b-4295-dac7-19924d01fea8"
      },
      "source": [
        "# your code here\n",
        "course_number = \"765\"\n",
        "p = \"Programming for Data Science\"\n",
        "print(p.upper())\n",
        "print(p.lower())"
      ],
      "execution_count": null,
      "outputs": [
        {
          "output_type": "stream",
          "text": [
            "PROGRAMMING FOR DATA SCIENCE\n",
            "programming for data science\n"
          ],
          "name": "stdout"
        }
      ]
    },
    {
      "cell_type": "markdown",
      "metadata": {
        "id": "AOezbWyrivwp"
      },
      "source": [
        "Another very useful function is `format()`:"
      ]
    },
    {
      "cell_type": "code",
      "metadata": {
        "id": "WK8Pf3T7iu4X"
      },
      "source": [
        "num=765\n",
        "\"My favorite class at Questrom so far is BA{}\".format(num)\n",
        "# see that the curly brackets act like a placeholder"
      ],
      "execution_count": null,
      "outputs": []
    },
    {
      "cell_type": "code",
      "metadata": {
        "id": "bmcJG2LojO7c"
      },
      "source": [
        "# We can use multiple curly brackets too:\n",
        "b1_start=7\n",
        "b2_start=1\n",
        "myString=\"Does this class start at {} am or {} pm??\".format(b1_start,b2_start)\n",
        "print(myString)"
      ],
      "execution_count": null,
      "outputs": []
    },
    {
      "cell_type": "markdown",
      "metadata": {
        "id": "eLH4lBf0jwgb"
      },
      "source": [
        "#### 1.7 Casting\n",
        "\n",
        "You might be familiar with the concept \"type casting\" but in Holywood it means something else, for us, it means casting a variable's type to something that is different than its original type:"
      ]
    },
    {
      "cell_type": "code",
      "metadata": {
        "id": "eqdd25htkInY"
      },
      "source": [
        "x=2\n",
        "y=2.0\n",
        "print(type(x))\n",
        "print(type(y))"
      ],
      "execution_count": null,
      "outputs": []
    },
    {
      "cell_type": "code",
      "metadata": {
        "id": "-_2_iLbjkOMH"
      },
      "source": [
        "# Cast x as float:\n",
        "float(x)"
      ],
      "execution_count": null,
      "outputs": []
    },
    {
      "cell_type": "code",
      "metadata": {
        "id": "wFpgFfsHkSgw"
      },
      "source": [
        "# Did we actually change the type of x? Try to find out:\n",
        "# your code here"
      ],
      "execution_count": null,
      "outputs": []
    },
    {
      "cell_type": "code",
      "metadata": {
        "id": "tbr7PfnlkhBy"
      },
      "source": [
        "#Try to cast y as integer using int()\n",
        "#your code here"
      ],
      "execution_count": null,
      "outputs": []
    },
    {
      "cell_type": "code",
      "metadata": {
        "id": "A3JR0S8PkSbx"
      },
      "source": [
        "#How about strings? Can we cast them to different types?\n",
        "z=\"python\"\n",
        "list(z)"
      ],
      "execution_count": null,
      "outputs": []
    },
    {
      "cell_type": "code",
      "metadata": {
        "id": "CqrSncRdkonV"
      },
      "source": [
        "?z"
      ],
      "execution_count": null,
      "outputs": []
    },
    {
      "cell_type": "markdown",
      "metadata": {
        "id": "PIGPTwNPk5fD"
      },
      "source": [
        "#### 1.8 Some notes:"
      ]
    },
    {
      "cell_type": "code",
      "metadata": {
        "id": "gicATf_r88rl"
      },
      "source": [
        "# It is good to know the version of python we use:\n",
        "import sys\n",
        "sys.version"
      ],
      "execution_count": null,
      "outputs": []
    },
    {
      "cell_type": "code",
      "metadata": {
        "id": "n3MUUpCdlCX8"
      },
      "source": [
        "# We can assign multiple variables at once\n",
        "x,y,z = 3,3.33,\"BA765\"\n",
        "print(x,y,z)"
      ],
      "execution_count": null,
      "outputs": []
    },
    {
      "cell_type": "code",
      "metadata": {
        "id": "XOou6OBXlFcc"
      },
      "source": [
        "#Using operations within print is allowed:\n",
        "print(x+y)\n",
        "print(z+\"!\")"
      ],
      "execution_count": null,
      "outputs": []
    },
    {
      "cell_type": "markdown",
      "metadata": {
        "id": "bI1yfs8NnTyG"
      },
      "source": [
        "#### 1.9 Doing math with python\n",
        "We will use the powerful numpy package for this purpose because it is very well optimized for common mathematical operations"
      ]
    },
    {
      "cell_type": "code",
      "metadata": {
        "id": "tDeRi_tanh5R"
      },
      "source": [
        "import numpy as np\n",
        "# Note that we have not only imported the package, but also gave it an alias"
      ],
      "execution_count": null,
      "outputs": []
    },
    {
      "cell_type": "code",
      "metadata": {
        "id": "Y_H9dAV7nwCT"
      },
      "source": [
        "np.pi"
      ],
      "execution_count": null,
      "outputs": []
    },
    {
      "cell_type": "code",
      "metadata": {
        "id": "AXxzAjzNnzmA"
      },
      "source": [
        "np.sqrt(625)"
      ],
      "execution_count": null,
      "outputs": []
    },
    {
      "cell_type": "code",
      "metadata": {
        "id": "ihKOa3O9n8LD"
      },
      "source": [
        "np.sin(30.0/180.0*np.pi)"
      ],
      "execution_count": null,
      "outputs": []
    },
    {
      "cell_type": "code",
      "metadata": {
        "id": "FkqYJiJ86BZR"
      },
      "source": [
        "np.math.factorial(3)"
      ],
      "execution_count": null,
      "outputs": []
    },
    {
      "cell_type": "markdown",
      "metadata": {
        "id": "S3SXMOLJ65_T"
      },
      "source": [
        "##### Quick Exercise\n",
        "\n",
        "What is the difference between the # of days in the year and 5 factorial , squared, +1\n"
      ]
    },
    {
      "cell_type": "code",
      "metadata": {
        "id": "-u_LxEO57AJv"
      },
      "source": [
        "# your code here"
      ],
      "execution_count": null,
      "outputs": []
    },
    {
      "cell_type": "markdown",
      "metadata": {
        "id": "9lt4kKueoOhe"
      },
      "source": [
        "\n",
        "\n",
        "---\n",
        "\n"
      ]
    },
    {
      "cell_type": "markdown",
      "metadata": {
        "id": "eUkeUYg-oP8h"
      },
      "source": [
        "#### Conclusions\n",
        "Hope you enjoyed your very first introduction to Python\n",
        "Now please go ahead and tackle the first lab exercises!"
      ]
    }
  ]
}