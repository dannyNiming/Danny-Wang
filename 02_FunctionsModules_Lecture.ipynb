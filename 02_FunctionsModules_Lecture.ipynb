{
  "nbformat": 4,
  "nbformat_minor": 0,
  "metadata": {
    "colab": {
      "name": "02-FunctionsModules_Lecture.ipynb",
      "provenance": [],
      "include_colab_link": true
    },
    "kernelspec": {
      "name": "python3",
      "display_name": "Python 3"
    },
    "language_info": {
      "name": "python"
    }
  },
  "cells": [
    {
      "cell_type": "markdown",
      "metadata": {
        "id": "view-in-github",
        "colab_type": "text"
      },
      "source": [
        "<a href=\"https://colab.research.google.com/github/dannyNiming/Danny-Wang/blob/main/02_FunctionsModules_Lecture.ipynb\" target=\"_parent\"><img src=\"https://colab.research.google.com/assets/colab-badge.svg\" alt=\"Open In Colab\"/></a>"
      ]
    },
    {
      "cell_type": "markdown",
      "metadata": {
        "id": "szFPun1V1p1Q"
      },
      "source": [
        "# Functions and Modules\n",
        "Session 3 - part 2\n",
        "<br>07/13/21\n",
        "\n",
        "<br>\n",
        "\n",
        "![functions](https://swcarpentry.github.io/python-novice-inflammation/fig/python-function.svg)\n",
        "\n",
        "\n",
        "<br>\n",
        "\n",
        "\n",
        "In this notebook we will cover functions and modules.\n",
        "\n",
        "Learning Objectives:\n",
        "\n",
        "1.  Build your own functions\n",
        "1.  Import external modules to expand python's capabilities beyond the standard libraries\n",
        "1.  Install external packages\n"
      ]
    },
    {
      "cell_type": "markdown",
      "metadata": {
        "id": "n6EquXJO2ZdB"
      },
      "source": [
        "# Functions\n",
        "\n",
        "Functions in python allow us to create the logic specific to our needs.  We can provide arguments that make our solution more flexible for the user's of our code. In addition to flexibility, using functions allows us to encapsulate our code and reuse the work in other projects. \n",
        "\n",
        "We have already used functions in this class.  For example, `len` is a function that determines the length of the given object. **What other function do you remember from the course so far?**\n",
        "\n",
        "\n",
        "Resources:  https://realpython.com/defining-your-own-python-function/\n",
        "\n",
        "\n"
      ]
    },
    {
      "cell_type": "code",
      "metadata": {
        "id": "fFBwnwK51nwE"
      },
      "source": [
        "#our first func\n",
        "def my_first_func():\n",
        "  print(\"Hello, World!\")"
      ],
      "execution_count": null,
      "outputs": []
    },
    {
      "cell_type": "code",
      "metadata": {
        "colab": {
          "base_uri": "https://localhost:8080/"
        },
        "id": "t3MZht-B261B",
        "outputId": "9626e16d-df6f-4985-f3ff-327710750f96"
      },
      "source": [
        "my_first_func()"
      ],
      "execution_count": null,
      "outputs": [
        {
          "output_type": "stream",
          "text": [
            "Hello, World!\n"
          ],
          "name": "stdout"
        }
      ]
    },
    {
      "cell_type": "code",
      "metadata": {
        "id": "vTtv2Vd-2_M5"
      },
      "source": [
        "#our second func can be more specific\n",
        "def greeting_func(a):\n",
        "  print(\"Hello, {}!\".format(a))"
      ],
      "execution_count": null,
      "outputs": []
    },
    {
      "cell_type": "code",
      "metadata": {
        "colab": {
          "base_uri": "https://localhost:8080/"
        },
        "id": "teXCf-k63Tzr",
        "outputId": "1b3105ed-ad77-45c1-f146-0f9e4b47c3a8"
      },
      "source": [
        "greeting_func(\"Xiangshan Mu\")"
      ],
      "execution_count": null,
      "outputs": [
        {
          "output_type": "stream",
          "text": [
            "Hello, Xiangshan Mu!\n"
          ],
          "name": "stdout"
        }
      ]
    },
    {
      "cell_type": "code",
      "metadata": {
        "id": "MuyPyZ0v3WTl"
      },
      "source": [
        "# Can you define a function called my_sum that takes in two arguments, \n",
        "# and prints out their sum? Build and test if your function works OK:\n",
        "\n",
        "#your function definition code here"
      ],
      "execution_count": null,
      "outputs": []
    },
    {
      "cell_type": "code",
      "metadata": {
        "id": "VWXrErZc3b4H"
      },
      "source": [
        "# your test code here"
      ],
      "execution_count": null,
      "outputs": []
    },
    {
      "cell_type": "code",
      "metadata": {
        "id": "d2Oj8sFP3xVI"
      },
      "source": [
        "# We can do more than printing things:\n",
        "def my_sum(x,y):\n",
        "  z = x+y\n",
        "  return(z)"
      ],
      "execution_count": null,
      "outputs": []
    },
    {
      "cell_type": "code",
      "metadata": {
        "id": "BATLuskg4S-r"
      },
      "source": [
        "my_sum(1,2)"
      ],
      "execution_count": null,
      "outputs": []
    },
    {
      "cell_type": "code",
      "metadata": {
        "id": "Cp98mg707vBH"
      },
      "source": [
        "# Note that print and return are different!\n",
        "def my_greetprint(a):\n",
        "  print(a)\n",
        "\n",
        "def my_greetreturn(a):\n",
        "  return(a)\n",
        "\n",
        "def my_greetprintreturn(a):\n",
        "  return(print(a))\n",
        " \n",
        "def my_greetprint_and_return(a):\n",
        "  print(a)\n",
        "  return"
      ],
      "execution_count": null,
      "outputs": []
    },
    {
      "cell_type": "code",
      "metadata": {
        "id": "7AKLrCuw8Oap"
      },
      "source": [
        "a=\"Hello you!\""
      ],
      "execution_count": null,
      "outputs": []
    },
    {
      "cell_type": "code",
      "metadata": {
        "id": "e5ckDvk-8RDt"
      },
      "source": [
        "#my_greetprint(a)\n",
        "#my_greetreturn(a)\n",
        "#my_greetprintreturn(a)\n",
        "#my_greetprint_and_return(a)"
      ],
      "execution_count": null,
      "outputs": []
    },
    {
      "cell_type": "code",
      "metadata": {
        "id": "BSPEwjAC4Vnt"
      },
      "source": [
        "# We can also define functions with optional arguments\n",
        "def my_check(a,b=True):\n",
        "  c=(a==b)\n",
        "  return(c)"
      ],
      "execution_count": null,
      "outputs": []
    },
    {
      "cell_type": "code",
      "metadata": {
        "id": "-TvtRzsI4myl"
      },
      "source": [
        "my_check(True)"
      ],
      "execution_count": null,
      "outputs": []
    },
    {
      "cell_type": "code",
      "metadata": {
        "id": "LfujBPQy4pGl"
      },
      "source": [
        "my_check(True,False,True)"
      ],
      "execution_count": null,
      "outputs": []
    },
    {
      "cell_type": "code",
      "metadata": {
        "id": "fP-2lbxz48xu"
      },
      "source": [
        "# Careful with defaults if you want to work with a changable default\n",
        "def my_add2list(x,y=[]):\n",
        "  y.append(x)\n",
        "  return(y)"
      ],
      "execution_count": null,
      "outputs": []
    },
    {
      "cell_type": "code",
      "metadata": {
        "id": "Yl16E6vP5weE"
      },
      "source": [
        "# To escape this behavior do the following:\n",
        "def my_add2list(x,y=None):\n",
        "  if y==None:\n",
        "    y=[]\n",
        "  y.append(x)\n",
        "  return(y)"
      ],
      "execution_count": null,
      "outputs": []
    },
    {
      "cell_type": "code",
      "metadata": {
        "id": "xx_XyR1d6Mau"
      },
      "source": [
        "my_add2list(1)"
      ],
      "execution_count": null,
      "outputs": []
    },
    {
      "cell_type": "markdown",
      "metadata": {
        "id": "DyVxemF37Ivg"
      },
      "source": [
        "## Quick Exercise:\n",
        "\n",
        "Create a function that takes 3 user inputs, `a`, `b`, and `c`.  Add these inputs to a list and return that list.  Your returned object should be a list of length 3."
      ]
    },
    {
      "cell_type": "code",
      "metadata": {
        "id": "0O5XFbTN6Pex",
        "outputId": "70193d2d-a044-43c3-e578-4656b55cc51e",
        "colab": {
          "base_uri": "https://localhost:8080/"
        }
      },
      "source": [
        "# your code here\n",
        "def tolist(a,b,c):\n",
        "  d=[]\n",
        "  d.append(a)\n",
        "  d.append(b)\n",
        "  d.append(c)\n",
        "  return(d)\n",
        "\n",
        "tolist(1,2,3)"
      ],
      "execution_count": 2,
      "outputs": [
        {
          "output_type": "execute_result",
          "data": {
            "text/plain": [
              "[1, 2, 3]"
            ]
          },
          "metadata": {
            "tags": []
          },
          "execution_count": 2
        }
      ]
    },
    {
      "cell_type": "markdown",
      "metadata": {
        "id": "PFhguAHJ9LZH"
      },
      "source": [
        "---"
      ]
    },
    {
      "cell_type": "code",
      "metadata": {
        "id": "mC8_HxKt9lJD"
      },
      "source": [
        "# A slightly more complex example that makes a good use of the optional argument\n",
        "# with default value:\n",
        "\n",
        "def passing_grade(score, threshold=70):\n",
        "  if score >= threshold:\n",
        "    print(\"Passed\")\n",
        "  else:\n",
        "    print(\"Failed\")"
      ],
      "execution_count": null,
      "outputs": []
    },
    {
      "cell_type": "code",
      "metadata": {
        "id": "UDhvRFiM9y2E"
      },
      "source": [
        "# check\n",
        "passing_grade(50)"
      ],
      "execution_count": null,
      "outputs": []
    },
    {
      "cell_type": "markdown",
      "metadata": {
        "id": "1Wq3dxXM-Awa"
      },
      "source": [
        "## Exercise:\n",
        "Your turn. Create a function that takes two inputs, the purchased price and regular price. Your function should return the discount rate that was applied to the sale. You do not need to convert the decimal to a string representation of % for this exercise, for example if purchase price is 50, regular is 100, returning 0.5 works."
      ]
    },
    {
      "cell_type": "code",
      "metadata": {
        "id": "uzxtAMT1_DRX",
        "outputId": "286a5e80-f128-47c7-a239-b88d28194b92",
        "colab": {
          "base_uri": "https://localhost:8080/"
        }
      },
      "source": [
        "# your code here\n",
        "def discount(a,b):\n",
        "  t = (b-a)/b\n",
        "  return(t)\n",
        "\n",
        "discount(20,30)"
      ],
      "execution_count": 4,
      "outputs": [
        {
          "output_type": "execute_result",
          "data": {
            "text/plain": [
              "0.3333333333333333"
            ]
          },
          "metadata": {
            "tags": []
          },
          "execution_count": 4
        }
      ]
    },
    {
      "cell_type": "markdown",
      "metadata": {
        "id": "VNjrkte9_l-y"
      },
      "source": [
        "---\n",
        "# Modules\n",
        "\n",
        "Modules are extensions to python that allow us to re-use and share functionality with each other.  We `import` these modules into our session when we need to use them.  Optionally, as we will see later, we can choose which modules we want to import from a much larger package, which avoids having to import the entire codebase.\n",
        "\n",
        "Python has a lot of standard modules and some we have been using so far:\n",
        "\n",
        "https://docs.python.org/3/library/index.html\n"
      ]
    },
    {
      "cell_type": "code",
      "metadata": {
        "id": "je5WZ2r_AE7T"
      },
      "source": [
        "import sys\n",
        "sys.version"
      ],
      "execution_count": null,
      "outputs": []
    },
    {
      "cell_type": "code",
      "metadata": {
        "id": "lEsvWyRKAWn1"
      },
      "source": [
        "import random\n",
        "random.random()"
      ],
      "execution_count": null,
      "outputs": []
    },
    {
      "cell_type": "code",
      "metadata": {
        "id": "kZQHE6YjBjWs"
      },
      "source": [
        "import math\n",
        "math.pi"
      ],
      "execution_count": null,
      "outputs": []
    },
    {
      "cell_type": "code",
      "metadata": {
        "id": "FFuQJk6fBth6"
      },
      "source": [
        "import csv\n",
        "with open('IMDB_reviews.csv') as f:\n",
        "    reader = csv.reader(f)\n",
        "    a1 = list(reader)"
      ],
      "execution_count": null,
      "outputs": []
    },
    {
      "cell_type": "markdown",
      "metadata": {
        "id": "MBAnw0QU_pDc"
      },
      "source": [
        "The non-standard modules need to be installed first. We can use pip tool for that:\n"
      ]
    },
    {
      "cell_type": "code",
      "metadata": {
        "id": "8f18rPsFCKD-"
      },
      "source": [
        "# The exclamation mark is purely a notebook feature!\n",
        "# Does not install this to all our notebooks permanently\n",
        "! pip install emoji "
      ],
      "execution_count": null,
      "outputs": []
    },
    {
      "cell_type": "code",
      "metadata": {
        "id": "l8mbRKonCTp3"
      },
      "source": [
        "from emoji import emojize \n",
        "# https://www.webfx.com/tools/emoji-cheat-sheet/\n",
        "emojize(\":thumbs_up:\")"
      ],
      "execution_count": null,
      "outputs": []
    },
    {
      "cell_type": "code",
      "metadata": {
        "id": "IcCjp2G7QqFE"
      },
      "source": [
        "! pip install faker"
      ],
      "execution_count": null,
      "outputs": []
    },
    {
      "cell_type": "code",
      "metadata": {
        "id": "QRe2Vn9-VYQ8"
      },
      "source": [
        "# a basic example of faker\n",
        "# this did not exist on Colab until we ran the install command above\n",
        "from faker import Faker\n",
        "fake = Faker()"
      ],
      "execution_count": null,
      "outputs": []
    },
    {
      "cell_type": "code",
      "metadata": {
        "id": "o8Hflyb6VsKl"
      },
      "source": [
        "fake.color_name()"
      ],
      "execution_count": null,
      "outputs": []
    },
    {
      "cell_type": "code",
      "metadata": {
        "id": "oFwDpHe9VvHf"
      },
      "source": [
        "fake.credit_card_full()"
      ],
      "execution_count": null,
      "outputs": []
    },
    {
      "cell_type": "code",
      "metadata": {
        "id": "pfNz-tWYH2Is"
      },
      "source": [
        "#More about that exclamation mark:\n",
        "! pwd"
      ],
      "execution_count": null,
      "outputs": []
    },
    {
      "cell_type": "code",
      "metadata": {
        "id": "hsB5fFaeH4OY"
      },
      "source": [
        "! ls"
      ],
      "execution_count": null,
      "outputs": []
    },
    {
      "cell_type": "code",
      "metadata": {
        "id": "XdzwwTOVH5fM"
      },
      "source": [
        "! cd sample_data"
      ],
      "execution_count": null,
      "outputs": []
    },
    {
      "cell_type": "code",
      "metadata": {
        "id": "AIzjSdtcH7qk"
      },
      "source": [
        ""
      ],
      "execution_count": null,
      "outputs": []
    }
  ]
}