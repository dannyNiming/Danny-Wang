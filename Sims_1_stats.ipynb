{
  "nbformat": 4,
  "nbformat_minor": 0,
  "metadata": {
    "kernelspec": {
      "display_name": "Python 3",
      "language": "python",
      "name": "python3"
    },
    "language_info": {
      "codemirror_mode": {
        "name": "ipython",
        "version": 3
      },
      "file_extension": ".py",
      "mimetype": "text/x-python",
      "name": "python",
      "nbconvert_exporter": "python",
      "pygments_lexer": "ipython3",
      "version": "3.8.5"
    },
    "colab": {
      "name": "Sims_1_stats.ipynb",
      "provenance": [],
      "collapsed_sections": [],
      "include_colab_link": true
    }
  },
  "cells": [
    {
      "cell_type": "markdown",
      "metadata": {
        "id": "view-in-github",
        "colab_type": "text"
      },
      "source": [
        "<a href=\"https://colab.research.google.com/github/dannyNiming/Danny-Wang/blob/main/Sims_1_stats.ipynb\" target=\"_parent\"><img src=\"https://colab.research.google.com/assets/colab-badge.svg\" alt=\"Open In Colab\"/></a>"
      ]
    },
    {
      "cell_type": "markdown",
      "metadata": {
        "id": "NGM0keXEx3UK"
      },
      "source": [
        "# Running simualtions with Python\n",
        "\n",
        "When we run simulations of events, business decisions etc, we will always run a follow-up analysis of stats:"
      ]
    },
    {
      "cell_type": "markdown",
      "metadata": {
        "id": "x0F7UKpkxfyi"
      },
      "source": [
        "## Warmup Exercise\n",
        "\n",
        "- set the seed to be 765 with numpy\n",
        "- create a 5*3 numpy array from random numbers between 0 and 1.\n",
        "Hint: `np.random.rand()`\n",
        "- multiple the array (elementwise) by 4\n",
        "- make the array 1 dimensional. Hint: `flatten()` or `reshape()`\n",
        "- what is the max value?\n",
        "- identify the index for that largest value? Hint: `argmax()`\n",
        "\n",
        "\n"
      ]
    },
    {
      "cell_type": "code",
      "metadata": {
        "id": "iYLI5CDuxfyq",
        "outputId": "563c20b7-5f25-437a-98ef-48e09807f638",
        "colab": {
          "base_uri": "https://localhost:8080/"
        }
      },
      "source": [
        "import numpy as np\n",
        "np.random.seed(765)\n",
        "two = np.random.rand(5,3)\n",
        "print(two)\n",
        "three = two * 4\n",
        "print(three)\n",
        "four = two.reshape(15,1)\n",
        "four.flatten()\n",
        "print(four)\n",
        "print(two.max())\n",
        "print(two.argmax())\n"
      ],
      "execution_count": 7,
      "outputs": [
        {
          "output_type": "stream",
          "text": [
            "[[0.47622943 0.46378993 0.29035724]\n",
            " [0.94356321 0.25553297 0.73366691]\n",
            " [0.70950592 0.89212214 0.20222305]\n",
            " [0.79012439 0.82681928 0.68601438]\n",
            " [0.1526213  0.70779554 0.05825119]]\n",
            "[[1.90491773 1.85515973 1.16142896]\n",
            " [3.77425284 1.02213187 2.93466764]\n",
            " [2.83802369 3.56848857 0.80889221]\n",
            " [3.16049755 3.30727714 2.74405751]\n",
            " [0.6104852  2.83118215 0.23300477]]\n",
            "[[0.47622943]\n",
            " [0.46378993]\n",
            " [0.29035724]\n",
            " [0.94356321]\n",
            " [0.25553297]\n",
            " [0.73366691]\n",
            " [0.70950592]\n",
            " [0.89212214]\n",
            " [0.20222305]\n",
            " [0.79012439]\n",
            " [0.82681928]\n",
            " [0.68601438]\n",
            " [0.1526213 ]\n",
            " [0.70779554]\n",
            " [0.05825119]]\n",
            "0.9435632112221578\n",
            "3\n"
          ],
          "name": "stdout"
        }
      ]
    },
    {
      "cell_type": "markdown",
      "metadata": {
        "id": "AUU0BJuzxfyq"
      },
      "source": [
        "# Basic Stats in Python\n",
        "\n",
        "![](https://www.statology.org/wp-content/uploads/2018/10/normal_dist.png)"
      ]
    },
    {
      "cell_type": "code",
      "metadata": {
        "id": "6sSBGTzWxfyq"
      },
      "source": [
        "# Very useful package for many math/science/engineering tasks\n",
        "# import scipy to start\n",
        "import scipy"
      ],
      "execution_count": null,
      "outputs": []
    },
    {
      "cell_type": "code",
      "metadata": {
        "colab": {
          "base_uri": "https://localhost:8080/"
        },
        "id": "Cx_UTwirxfyr",
        "outputId": "3e6a51a0-0b24-421d-a1a6-2df97eead88f"
      },
      "source": [
        "# if you are coding locally and don't have scipy yet:\n",
        "#! pip install scipy"
      ],
      "execution_count": null,
      "outputs": [
        {
          "output_type": "stream",
          "text": [
            "Requirement already satisfied: scipy in /usr/local/lib/python3.7/dist-packages (1.4.1)\n",
            "Requirement already satisfied: numpy>=1.13.3 in /usr/local/lib/python3.7/dist-packages (from scipy) (1.19.5)\n"
          ],
          "name": "stdout"
        }
      ]
    },
    {
      "cell_type": "code",
      "metadata": {
        "id": "ruJ-yze5xfyr"
      },
      "source": [
        "# the module we will use today:\n",
        "from scipy import stats\n",
        "\n",
        "#https://docs.scipy.org/doc/scipy/reference/stats.html"
      ],
      "execution_count": null,
      "outputs": []
    },
    {
      "cell_type": "markdown",
      "metadata": {
        "id": "DK5FCTLtxfyr"
      },
      "source": [
        "## One Sample T-test\n",
        "\n"
      ]
    },
    {
      "cell_type": "code",
      "metadata": {
        "id": "vcT_nKYsxfys"
      },
      "source": [
        "# create a 1d array from a normal dist 0/1\n",
        "# size = 15\n",
        "x = np.random.normal(size=15)"
      ],
      "execution_count": null,
      "outputs": []
    },
    {
      "cell_type": "code",
      "metadata": {
        "colab": {
          "base_uri": "https://localhost:8080/"
        },
        "id": "00Q40xb7xfys",
        "outputId": "0a652835-cc38-455b-e94c-249fc62d6990"
      },
      "source": [
        "x"
      ],
      "execution_count": null,
      "outputs": [
        {
          "output_type": "execute_result",
          "data": {
            "text/plain": [
              "array([ 0.36497273,  0.41097184,  0.03739921,  0.2502273 ,  0.06795932,\n",
              "       -1.24925051, -0.24171349, -1.20130371, -0.92771451, -1.10461306,\n",
              "       -2.23939628, -0.20392185, -0.05706672,  1.2340581 ,  0.91260418])"
            ]
          },
          "metadata": {
            "tags": []
          },
          "execution_count": 16
        }
      ]
    },
    {
      "cell_type": "code",
      "metadata": {
        "colab": {
          "base_uri": "https://localhost:8080/"
        },
        "id": "qBv8H21qxfys",
        "outputId": "fdc0d790-1fd2-46e0-e9ce-e549f7790e76"
      },
      "source": [
        "x.mean()"
      ],
      "execution_count": null,
      "outputs": [
        {
          "output_type": "execute_result",
          "data": {
            "text/plain": [
              "-0.2631191635307657"
            ]
          },
          "metadata": {
            "tags": []
          },
          "execution_count": 17
        }
      ]
    },
    {
      "cell_type": "code",
      "metadata": {
        "colab": {
          "base_uri": "https://localhost:8080/"
        },
        "id": "x0-gsWSqxfyt",
        "outputId": "c4afccfd-31b8-4ab9-d2e0-dc239f747e6a"
      },
      "source": [
        "# ttest from scipy\n",
        "stats.ttest_1samp(x, 0)\n"
      ],
      "execution_count": null,
      "outputs": [
        {
          "output_type": "execute_result",
          "data": {
            "text/plain": [
              "Ttest_1sampResult(statistic=-1.1057515211658153, pvalue=0.2874742212123508)"
            ]
          },
          "metadata": {
            "tags": []
          },
          "execution_count": 18
        }
      ]
    },
    {
      "cell_type": "code",
      "metadata": {
        "id": "6sYZKbqwxfyt"
      },
      "source": [
        "# try this again - larger sample\n",
        "# size = 100\n",
        "x = np.random.normal(size=100)"
      ],
      "execution_count": null,
      "outputs": []
    },
    {
      "cell_type": "code",
      "metadata": {
        "colab": {
          "base_uri": "https://localhost:8080/"
        },
        "id": "6vH3ZERFxfyt",
        "outputId": "818318a1-414f-48ee-84c8-ee4be08b614f"
      },
      "source": [
        "stats.ttest_1samp(x, 0)"
      ],
      "execution_count": null,
      "outputs": [
        {
          "output_type": "execute_result",
          "data": {
            "text/plain": [
              "Ttest_1sampResult(statistic=0.04749486840050701, pvalue=0.9622145007396632)"
            ]
          },
          "metadata": {
            "tags": []
          },
          "execution_count": 20
        }
      ]
    },
    {
      "cell_type": "code",
      "metadata": {
        "colab": {
          "base_uri": "https://localhost:8080/"
        },
        "id": "RQwB2AoLxfyt",
        "outputId": "1f811472-f50f-48d0-9f3b-c01e41d6d5ca"
      },
      "source": [
        "x.mean()"
      ],
      "execution_count": null,
      "outputs": [
        {
          "output_type": "execute_result",
          "data": {
            "text/plain": [
              "0.004923130546908293"
            ]
          },
          "metadata": {
            "tags": []
          },
          "execution_count": 21
        }
      ]
    },
    {
      "cell_type": "markdown",
      "metadata": {
        "id": "mXE1wY9dxfyu"
      },
      "source": [
        "> Makes sense right, as sample size increases from the distribution, pvalue gets larger.  Much less unlikely to be from a different dist"
      ]
    },
    {
      "cell_type": "code",
      "metadata": {
        "colab": {
          "base_uri": "https://localhost:8080/"
        },
        "id": "008Z2feFxfyu",
        "outputId": "bbbbb953-a89d-4757-ae6c-26a8e3339a0f"
      },
      "source": [
        "# another but we shift the data to 2, std=1, size=50\n",
        "z = np.random.normal(loc=2, scale=1, size=50)\n",
        "z.mean()"
      ],
      "execution_count": null,
      "outputs": [
        {
          "output_type": "execute_result",
          "data": {
            "text/plain": [
              "1.8447668796007555"
            ]
          },
          "metadata": {
            "tags": []
          },
          "execution_count": 22
        }
      ]
    },
    {
      "cell_type": "code",
      "metadata": {
        "id": "uIILQLYUxfyu"
      },
      "source": [
        "# save out the result to a variable\n",
        "# result\n",
        "result = stats.ttest_1samp(z, 0)"
      ],
      "execution_count": null,
      "outputs": []
    },
    {
      "cell_type": "code",
      "metadata": {
        "colab": {
          "base_uri": "https://localhost:8080/"
        },
        "id": "6bwZLdWaxfyu",
        "outputId": "1d82e91d-712d-4bf6-dcb9-e950d435f91f"
      },
      "source": [
        "result"
      ],
      "execution_count": null,
      "outputs": [
        {
          "output_type": "execute_result",
          "data": {
            "text/plain": [
              "Ttest_1sampResult(statistic=13.533460579802602, pvalue=3.565480921237748e-18)"
            ]
          },
          "metadata": {
            "tags": []
          },
          "execution_count": 24
        }
      ]
    },
    {
      "cell_type": "code",
      "metadata": {
        "colab": {
          "base_uri": "https://localhost:8080/"
        },
        "id": "wHv46NI0xfyv",
        "outputId": "591ba5c8-4233-41dc-c799-c9e77f3c5b4d"
      },
      "source": [
        "# type\n",
        "type(result)"
      ],
      "execution_count": null,
      "outputs": [
        {
          "output_type": "execute_result",
          "data": {
            "text/plain": [
              "scipy.stats.stats.Ttest_1sampResult"
            ]
          },
          "metadata": {
            "tags": []
          },
          "execution_count": 25
        }
      ]
    },
    {
      "cell_type": "code",
      "metadata": {
        "colab": {
          "base_uri": "https://localhost:8080/"
        },
        "id": "Sp5fMy4lxfyv",
        "outputId": "8a7f385d-8ff3-4c9e-aa9d-3c128eed85f9"
      },
      "source": [
        "# parse to list\n",
        "list(result)"
      ],
      "execution_count": null,
      "outputs": [
        {
          "output_type": "execute_result",
          "data": {
            "text/plain": [
              "[13.533460579802602, 3.565480921237748e-18]"
            ]
          },
          "metadata": {
            "tags": []
          },
          "execution_count": 26
        }
      ]
    },
    {
      "cell_type": "markdown",
      "metadata": {
        "id": "Kaa1BcRpxfyw"
      },
      "source": [
        "## Quick Exercise:"
      ]
    },
    {
      "cell_type": "code",
      "metadata": {
        "id": "0agwxoxdxfyw"
      },
      "source": [
        "# create an array with mean 85 and standard deviation of 3\n",
        "# test against a population mean of 91\n",
        "# draw 50 samples"
      ],
      "execution_count": null,
      "outputs": []
    },
    {
      "cell_type": "code",
      "metadata": {
        "id": "8G3B4tQVxfyw"
      },
      "source": [
        "#grades = np.random.normal(loc=?, scale=?, size=?)"
      ],
      "execution_count": null,
      "outputs": []
    },
    {
      "cell_type": "code",
      "metadata": {
        "id": "IqOIxIu6xfyx"
      },
      "source": [
        ""
      ],
      "execution_count": null,
      "outputs": []
    },
    {
      "cell_type": "markdown",
      "metadata": {
        "id": "xIKPZKElxfyx"
      },
      "source": [
        "## Two Sample t-test"
      ]
    },
    {
      "cell_type": "code",
      "metadata": {
        "id": "8NE3TTJNxfyx"
      },
      "source": [
        "# lets create two random normal, 100/15, 115/15, size=100\n",
        "x = np.random.normal(100, 15, 100)\n",
        "y = np.random.normal(115, 15, 100)"
      ],
      "execution_count": null,
      "outputs": []
    },
    {
      "cell_type": "code",
      "metadata": {
        "colab": {
          "base_uri": "https://localhost:8080/"
        },
        "id": "5o2YGBDwxfyx",
        "outputId": "006c1e38-3e56-4aa4-9202-43a3063dd863"
      },
      "source": [
        "x.mean()"
      ],
      "execution_count": null,
      "outputs": [
        {
          "output_type": "execute_result",
          "data": {
            "text/plain": [
              "99.74053504594147"
            ]
          },
          "metadata": {
            "tags": []
          },
          "execution_count": 34
        }
      ]
    },
    {
      "cell_type": "code",
      "metadata": {
        "colab": {
          "base_uri": "https://localhost:8080/"
        },
        "id": "1pFyO0fExfyx",
        "outputId": "b2a158fb-13a4-4d7c-cd38-2e7ac42846f1"
      },
      "source": [
        "y.mean()"
      ],
      "execution_count": null,
      "outputs": [
        {
          "output_type": "execute_result",
          "data": {
            "text/plain": [
              "113.7493900561022"
            ]
          },
          "metadata": {
            "tags": []
          },
          "execution_count": 35
        }
      ]
    },
    {
      "cell_type": "code",
      "metadata": {
        "colab": {
          "base_uri": "https://localhost:8080/"
        },
        "id": "h1px6H6rxfyy",
        "outputId": "456b6f44-a394-4e52-9062-b4e99fa564fa"
      },
      "source": [
        "stats.ttest_ind(x, y)"
      ],
      "execution_count": null,
      "outputs": [
        {
          "output_type": "execute_result",
          "data": {
            "text/plain": [
              "Ttest_indResult(statistic=-6.393018292291385, pvalue=1.143437649108597e-09)"
            ]
          },
          "metadata": {
            "tags": []
          },
          "execution_count": 36
        }
      ]
    },
    {
      "cell_type": "markdown",
      "metadata": {
        "id": "8AQYidDqxfy1"
      },
      "source": [
        "## Chi-square"
      ]
    },
    {
      "cell_type": "code",
      "metadata": {
        "colab": {
          "base_uri": "https://localhost:8080/"
        },
        "id": "OrS_S9N2xfy1",
        "outputId": "f7a6829f-2df1-4877-f05f-31c91c1a5981"
      },
      "source": [
        "## test for independence\n",
        "# 4 sets of rolls of dice, summarized\n",
        "\n",
        "a1 = [6, 4, 5, 10]\n",
        "a2 = [8, 5, 3, 3]\n",
        "a3 = [5, 4, 8, 4]\n",
        "a4 = [4, 11, 7, 13]\n",
        "a5 = [5, 8, 7, 6]\n",
        "a6 = [7, 3, 5, 9]\n",
        "dice = np.array([a1, a2, a3, a4, a5, a6])\n"
      ],
      "execution_count": null,
      "outputs": [
        {
          "output_type": "execute_result",
          "data": {
            "text/plain": [
              "array([35, 35, 35, 45])"
            ]
          },
          "metadata": {
            "tags": []
          },
          "execution_count": 47
        }
      ]
    },
    {
      "cell_type": "code",
      "metadata": {
        "colab": {
          "base_uri": "https://localhost:8080/"
        },
        "id": "IqI5RQpYxfy1",
        "outputId": "bffdd2dc-d032-453a-81ad-44f991fcc690"
      },
      "source": [
        "dice"
      ],
      "execution_count": null,
      "outputs": [
        {
          "output_type": "execute_result",
          "data": {
            "text/plain": [
              "array([[ 6,  4,  5, 10],\n",
              "       [ 8,  5,  3,  3],\n",
              "       [ 5,  4,  8,  4],\n",
              "       [ 4, 11,  7, 13],\n",
              "       [ 5,  8,  7,  6],\n",
              "       [ 7,  3,  5,  9]])"
            ]
          },
          "metadata": {
            "tags": []
          },
          "execution_count": 39
        }
      ]
    },
    {
      "cell_type": "code",
      "metadata": {
        "colab": {
          "base_uri": "https://localhost:8080/"
        },
        "id": "bZavEfhwxfy1",
        "outputId": "cbeb246b-7e79-497c-c1f7-9f4fd3871a86"
      },
      "source": [
        "stats.chi2_contingency(dice)"
      ],
      "execution_count": null,
      "outputs": [
        {
          "output_type": "execute_result",
          "data": {
            "text/plain": [
              "(16.490612061288754,\n",
              " 0.35021521809742745,\n",
              " 15,\n",
              " array([[ 5.83333333,  5.83333333,  5.83333333,  7.5       ],\n",
              "        [ 4.43333333,  4.43333333,  4.43333333,  5.7       ],\n",
              "        [ 4.9       ,  4.9       ,  4.9       ,  6.3       ],\n",
              "        [ 8.16666667,  8.16666667,  8.16666667, 10.5       ],\n",
              "        [ 6.06666667,  6.06666667,  6.06666667,  7.8       ],\n",
              "        [ 5.6       ,  5.6       ,  5.6       ,  7.2       ]]))"
            ]
          },
          "metadata": {
            "tags": []
          },
          "execution_count": 48
        }
      ]
    },
    {
      "cell_type": "code",
      "metadata": {
        "colab": {
          "base_uri": "https://localhost:8080/"
        },
        "id": "aAtAjf4wxfy2",
        "outputId": "5294c8f5-7184-4fa3-ada8-7b0a3dee2c38"
      },
      "source": [
        "# another way to unpack the results\n",
        "stat, p, dof, exp = stats.chi2_contingency(dice)\n",
        "p"
      ],
      "execution_count": null,
      "outputs": [
        {
          "output_type": "execute_result",
          "data": {
            "text/plain": [
              "0.35021521809742745"
            ]
          },
          "metadata": {
            "tags": []
          },
          "execution_count": 52
        }
      ]
    },
    {
      "cell_type": "markdown",
      "metadata": {
        "id": "su_bCFl8xfy3"
      },
      "source": [
        "## Quick Exercise:\n",
        "\n",
        "The operations manager of a company that manufactures tires wants to determine whether there are any differences in the quality of work among the three daily shifts. She randomly selects 496 tires and carefully inspects them. Each tire is either classified as perfect, satisfactory, or defective, and the shift that produced it is also recorded. The two categorical variables of interest are the shift and condition of the tire produced. The data can be summarized by the accompanying two-way table. Does the data provide sufficient evidence at the 5% significance level to infer that there are differences in quality among the three shifts?\n",
        "\n",
        "\n",
        "\n",
        "|      shift           | Perfect | Satisfactory | Defective |\n",
        "|-----------------|---------|--------------|-----------|\n",
        "| Morning Shift   | 106     | 124          | 1         |\n",
        "| Afternoon Shift | 67      | 85           | 1         |\n",
        "| Night Shift     | 37      | 72           | 3         |\n",
        "\n",
        "Source: https://online.stat.psu.edu/stat500/lesson/8/8.1"
      ]
    }
  ]
}