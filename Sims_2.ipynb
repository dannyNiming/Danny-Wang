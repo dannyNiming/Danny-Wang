{
  "nbformat": 4,
  "nbformat_minor": 0,
  "metadata": {
    "kernelspec": {
      "display_name": "Python 3",
      "language": "python",
      "name": "python3"
    },
    "language_info": {
      "codemirror_mode": {
        "name": "ipython",
        "version": 3
      },
      "file_extension": ".py",
      "mimetype": "text/x-python",
      "name": "python",
      "nbconvert_exporter": "python",
      "pygments_lexer": "ipython3",
      "version": "3.8.5"
    },
    "colab": {
      "name": "Sims_2.ipynb",
      "provenance": [],
      "include_colab_link": true
    }
  },
  "cells": [
    {
      "cell_type": "markdown",
      "metadata": {
        "id": "view-in-github",
        "colab_type": "text"
      },
      "source": [
        "<a href=\"https://colab.research.google.com/github/dannyNiming/Danny-Wang/blob/main/Sims_2.ipynb\" target=\"_parent\"><img src=\"https://colab.research.google.com/assets/colab-badge.svg\" alt=\"Open In Colab\"/></a>"
      ]
    },
    {
      "cell_type": "markdown",
      "metadata": {
        "id": "W-g1zEA78pfM"
      },
      "source": [
        "# Simulations\n",
        "\n",
        "Business decisions often rely on simulations of events/decisions to understand outcomes and calculate risk. Any example?"
      ]
    },
    {
      "cell_type": "code",
      "metadata": {
        "id": "Hemov6o48pfP"
      },
      "source": [
        "# imports\n",
        "import numpy as np\n",
        "import random\n",
        "import matplotlib.pyplot as plt\n",
        "import scipy\n",
        "from scipy import stats\n",
        "\n",
        "%matplotlib inline"
      ],
      "execution_count": 1,
      "outputs": []
    },
    {
      "cell_type": "markdown",
      "metadata": {
        "id": "KzoE1erN8pfR"
      },
      "source": [
        "# Part 1\n",
        "\n",
        "We are going to use the `TSLA.csv` file found on QTools"
      ]
    },
    {
      "cell_type": "code",
      "metadata": {
        "id": "XGKMQdRe8pfR"
      },
      "source": [
        "# Quick exercise:  \n",
        "\n",
        "# run the starter code below\n",
        "\n",
        "tsla = np.genfromtxt(\"TSLA.csv\", usecols=5, delimiter=\",\", skip_header=1)\n",
        "tsla_delta = np.diff(tsla)\n"
      ],
      "execution_count": 3,
      "outputs": []
    },
    {
      "cell_type": "code",
      "metadata": {
        "colab": {
          "base_uri": "https://localhost:8080/"
        },
        "id": "3xjLLc_58pfR",
        "outputId": "db9b4c48-f21e-4e98-bab7-c49403003704"
      },
      "source": [
        "# calculate the mean and standard deviation for the dataset tsla_delta\n",
        "tmean = tsla_delta.mean()\n",
        "tmean"
      ],
      "execution_count": 4,
      "outputs": [
        {
          "output_type": "execute_result",
          "data": {
            "text/plain": [
              "1.4291264980237153"
            ]
          },
          "metadata": {
            "tags": []
          },
          "execution_count": 4
        }
      ]
    },
    {
      "cell_type": "code",
      "metadata": {
        "colab": {
          "base_uri": "https://localhost:8080/"
        },
        "id": "avVdrYxb8pfS",
        "outputId": "d28b24a6-421e-4ee7-ae06-13990903a01c"
      },
      "source": [
        "tsigma = tsla_delta.std()\n",
        "tsigma"
      ],
      "execution_count": 5,
      "outputs": [
        {
          "output_type": "execute_result",
          "data": {
            "text/plain": [
              "13.166176040917861"
            ]
          },
          "metadata": {
            "tags": []
          },
          "execution_count": 5
        }
      ]
    },
    {
      "cell_type": "code",
      "metadata": {
        "colab": {
          "base_uri": "https://localhost:8080/"
        },
        "id": "E3RPeOb18pfS",
        "outputId": "0b240f5e-4a67-47a4-9cc0-75bc727003e7"
      },
      "source": [
        "stats.describe(tsla_delta)"
      ],
      "execution_count": 6,
      "outputs": [
        {
          "output_type": "execute_result",
          "data": {
            "text/plain": [
              "DescribeResult(nobs=253, minmax=(-88.11001599999997, 55.64001399999995), mean=1.4291264980237153, variance=174.03608118940954, skewness=-0.8872627772175465, kurtosis=10.14449359960682)"
            ]
          },
          "metadata": {
            "tags": []
          },
          "execution_count": 6
        }
      ]
    },
    {
      "cell_type": "code",
      "metadata": {
        "colab": {
          "base_uri": "https://localhost:8080/"
        },
        "id": "2DbBc2mH8pfS",
        "outputId": "4d4ce55b-7560-48d1-f362-e5e3fb999a2f"
      },
      "source": [
        "# let's simulate 50 observations using this information\n",
        "# I am going to refer to this as 1 experiment\n",
        "days = np.random.normal(tmean, tsigma, 50)\n",
        "days\n"
      ],
      "execution_count": 17,
      "outputs": [
        {
          "output_type": "execute_result",
          "data": {
            "text/plain": [
              "array([ 13.3699951 ,  -8.56848582,  13.76959496,  11.63893575,\n",
              "        23.04873213,  20.82126923, -25.20050766,   9.82487988,\n",
              "       -27.69699196,  33.13073639, -24.73397203,  -4.33844953,\n",
              "         4.43953912, -40.3628694 ,   5.90883215,   4.99212618,\n",
              "         5.37281383, -21.7124042 ,   1.06540649,  -3.13619146,\n",
              "        20.53771035,   6.38918477, -13.31510918,   5.09039302,\n",
              "       -29.07455878,   0.11603176,  27.99804105,   3.45488452,\n",
              "        -4.61497652,   2.71200266,  -0.67132904,   3.20849396,\n",
              "         3.26974086,   0.51644393,  -0.50309179,  -0.32319177,\n",
              "        -3.6302065 ,  -4.69442409,  19.6912288 ,  -5.36198827,\n",
              "        11.31482139, -10.40369878,  12.34509256, -16.1170842 ,\n",
              "       -12.87506493, -19.66386545,  -2.85988409,  14.76496674,\n",
              "        17.02483334,   3.76694303])"
            ]
          },
          "metadata": {
            "tags": []
          },
          "execution_count": 17
        }
      ]
    },
    {
      "cell_type": "code",
      "metadata": {
        "colab": {
          "base_uri": "https://localhost:8080/"
        },
        "id": "RHBrr6n58pfS",
        "outputId": "be537e0c-f87a-45d5-a145-f355313adf93"
      },
      "source": [
        "days.mean()"
      ],
      "execution_count": 18,
      "outputs": [
        {
          "output_type": "execute_result",
          "data": {
            "text/plain": [
              "0.3945065700768316"
            ]
          },
          "metadata": {
            "tags": []
          },
          "execution_count": 18
        }
      ]
    },
    {
      "cell_type": "code",
      "metadata": {
        "colab": {
          "base_uri": "https://localhost:8080/"
        },
        "id": "bXL8U1NA8pfT",
        "outputId": "4a49857f-760a-4765-9696-aa719e1b0848"
      },
      "source": [
        "days.std()"
      ],
      "execution_count": null,
      "outputs": [
        {
          "output_type": "execute_result",
          "data": {
            "text/plain": [
              "13.110054148995067"
            ]
          },
          "metadata": {
            "tags": []
          },
          "execution_count": 16
        }
      ]
    },
    {
      "cell_type": "code",
      "metadata": {
        "id": "V9l0oC9j8pfT"
      },
      "source": [
        ""
      ],
      "execution_count": null,
      "outputs": []
    },
    {
      "cell_type": "code",
      "metadata": {
        "colab": {
          "base_uri": "https://localhost:8080/"
        },
        "id": "1deuimoR8pfT",
        "outputId": "b1196f27-29b4-46dd-e6d0-be456ac7250e"
      },
      "source": [
        "# how many days in our simulation were above 5\n",
        "len(days[days>=5])"
      ],
      "execution_count": 8,
      "outputs": [
        {
          "output_type": "execute_result",
          "data": {
            "text/plain": [
              "18"
            ]
          },
          "metadata": {
            "tags": []
          },
          "execution_count": 8
        }
      ]
    },
    {
      "cell_type": "code",
      "metadata": {
        "colab": {
          "base_uri": "https://localhost:8080/"
        },
        "id": "MpwQCwsX8pfT",
        "outputId": "3daa9093-9e11-436a-a165-1099032cb62d"
      },
      "source": [
        "# actual data\n",
        "len(tsla_delta[tsla_delta >= 5])"
      ],
      "execution_count": 9,
      "outputs": [
        {
          "output_type": "execute_result",
          "data": {
            "text/plain": [
              "69"
            ]
          },
          "metadata": {
            "tags": []
          },
          "execution_count": 9
        }
      ]
    },
    {
      "cell_type": "code",
      "metadata": {
        "colab": {
          "base_uri": "https://localhost:8080/"
        },
        "id": "7GteKt7p8pfT",
        "outputId": "23d91fab-2ac9-48df-df48-df4a8b7eb77f"
      },
      "source": [
        "len(tsla_delta)"
      ],
      "execution_count": 10,
      "outputs": [
        {
          "output_type": "execute_result",
          "data": {
            "text/plain": [
              "253"
            ]
          },
          "metadata": {
            "tags": []
          },
          "execution_count": 10
        }
      ]
    },
    {
      "cell_type": "code",
      "metadata": {
        "colab": {
          "base_uri": "https://localhost:8080/"
        },
        "id": "7Zb4gR7I8pfU",
        "outputId": "1161754d-09a6-4e7e-dd1a-8c387c3715a8"
      },
      "source": [
        "# calculate the % of days (real) that were 5 or above\n",
        "len(tsla_delta[tsla_delta >= 5]) / len(tsla_delta)\n"
      ],
      "execution_count": null,
      "outputs": [
        {
          "output_type": "execute_result",
          "data": {
            "text/plain": [
              "0.2727272727272727"
            ]
          },
          "metadata": {
            "tags": []
          },
          "execution_count": 21
        }
      ]
    },
    {
      "cell_type": "code",
      "metadata": {
        "colab": {
          "base_uri": "https://localhost:8080/"
        },
        "id": "Rzij7Wtc8pfU",
        "outputId": "ee20c3fb-6bcf-47a5-8f89-10f2f58a6d47"
      },
      "source": [
        "# what % of days (simulated) are above 5\n",
        "len(days[days>=5]) / len(days)"
      ],
      "execution_count": null,
      "outputs": [
        {
          "output_type": "execute_result",
          "data": {
            "text/plain": [
              "0.44"
            ]
          },
          "metadata": {
            "tags": []
          },
          "execution_count": 22
        }
      ]
    },
    {
      "cell_type": "markdown",
      "metadata": {
        "id": "r2pcatwg8pfU"
      },
      "source": [
        "## Exercise:\n",
        "\n",
        "We are going to expand above.  \n",
        "\n",
        "1. Using the same mean/standard deviation calculated for tesla, each experiment will draw and observe 100 days\n",
        "1. Calculate the number of days where the returns are $7 or more\n",
        "1. Conduct this experiment a total of 75 times\n",
        "1. What is the average across all experiments\n",
        "1. How does this compare to the observed data in `tsla_delta`"
      ]
    },
    {
      "cell_type": "code",
      "metadata": {
        "id": "-DbEo88i8pfU",
        "outputId": "88570d79-c711-4104-ea83-f767e1f5d110",
        "colab": {
          "base_uri": "https://localhost:8080/"
        }
      },
      "source": [
        "experiment = []\n",
        "\n",
        "for _ in range(75):\n",
        "  sim_days = np.random.normal(np.random.normal(tmean, tsigma, 100))\n",
        "  sim_successful_days = len(sim_days[sim_days >= 7])\n",
        "  experiment.append(sim_successful_days)\n",
        "\n",
        "len(experiment)"
      ],
      "execution_count": 22,
      "outputs": [
        {
          "output_type": "execute_result",
          "data": {
            "text/plain": [
              "75"
            ]
          },
          "metadata": {
            "tags": []
          },
          "execution_count": 22
        }
      ]
    },
    {
      "cell_type": "code",
      "metadata": {
        "id": "st4LW1jy8pfW"
      },
      "source": [
        ""
      ],
      "execution_count": null,
      "outputs": []
    },
    {
      "cell_type": "markdown",
      "metadata": {
        "id": "2yRDjCsb8pfW"
      },
      "source": [
        "# Part 2 - Coin Flipping (Anything with Yes/No like outcome)"
      ]
    },
    {
      "cell_type": "code",
      "metadata": {
        "colab": {
          "base_uri": "https://localhost:8080/"
        },
        "id": "7bS6v5ev8pfW",
        "outputId": "30975dc3-db0d-4dce-fec7-6dfdcc0cbbd2"
      },
      "source": [
        "# basics\n",
        "SUCCESS_PROB = .5\n",
        "np.random.choice([0,1], size=1, p=[SUCCESS_PROB, 1-SUCCESS_PROB])"
      ],
      "execution_count": null,
      "outputs": [
        {
          "output_type": "execute_result",
          "data": {
            "text/plain": [
              "array([1])"
            ]
          },
          "metadata": {
            "tags": []
          },
          "execution_count": 23
        }
      ]
    },
    {
      "cell_type": "code",
      "metadata": {
        "id": "Wxh960wD8pfW",
        "outputId": "b47b450e-c967-44fd-992d-4494f1b32ac0"
      },
      "source": [
        "# size = 10 = # of trials.  We will refer to this as 1 run of the experiment:\n",
        "flip = np.random.choice([0,1], size=10, p=[SUCCESS_PROB, 1-SUCCESS_PROB])\n",
        "flip"
      ],
      "execution_count": null,
      "outputs": [
        {
          "output_type": "execute_result",
          "data": {
            "text/plain": [
              "array([1, 0, 0, 0, 1, 1, 0, 0, 1, 0])"
            ]
          },
          "metadata": {
            "tags": []
          },
          "execution_count": 34
        }
      ]
    },
    {
      "cell_type": "code",
      "metadata": {
        "id": "GREO7QIG8pfX",
        "outputId": "f570e13e-115c-4f0c-bdfb-c6c80b8e5ac8"
      },
      "source": [
        "# Sum shows us how many successes in the experiment\n",
        "flip.sum()"
      ],
      "execution_count": null,
      "outputs": [
        {
          "output_type": "execute_result",
          "data": {
            "text/plain": [
              "4"
            ]
          },
          "metadata": {
            "tags": []
          },
          "execution_count": 35
        }
      ]
    },
    {
      "cell_type": "code",
      "metadata": {
        "id": "bhc8Xl238pfX"
      },
      "source": [
        "# something a little more practical:\n",
        "# Let's say in professional sports (hockey) 10% of the shots on net result in a goal\n",
        "\n",
        "# assume all shots are of equal quality\n",
        "\n",
        "# let's say a goalie faces 1000 shots.  How many goals (successes) will they let up?"
      ],
      "execution_count": null,
      "outputs": []
    },
    {
      "cell_type": "code",
      "metadata": {
        "id": "h-RCpzHH8pfX"
      },
      "source": [
        "GOAL_P = .1\n",
        "shots = np.random.choice([1,0], size=1000, p=[GOAL_P, 1-GOAL_P ])\n",
        "#shots[:5]"
      ],
      "execution_count": null,
      "outputs": []
    },
    {
      "cell_type": "code",
      "metadata": {
        "colab": {
          "base_uri": "https://localhost:8080/"
        },
        "id": "uSv76vpv8pfX",
        "outputId": "8d5eb6fe-8514-4ae8-8613-4055d510bdbf"
      },
      "source": [
        "shots.sum()/len(shots)"
      ],
      "execution_count": null,
      "outputs": [
        {
          "output_type": "execute_result",
          "data": {
            "text/plain": [
              "0.092"
            ]
          },
          "metadata": {
            "tags": []
          },
          "execution_count": 27
        }
      ]
    },
    {
      "cell_type": "code",
      "metadata": {
        "id": "bOD7QKbM8pfX"
      },
      "source": [
        ""
      ],
      "execution_count": null,
      "outputs": []
    },
    {
      "cell_type": "markdown",
      "metadata": {
        "id": "QPbv6o1o8pfY"
      },
      "source": [
        "## Breakout Room Exercise:\n",
        "\n",
        "The GM of the Boston Bruins contacted your analytics firm to help understand a shift in strategy they are looking to employ next season.\n",
        "\n",
        "The team allowed 167 goals last season on 2103 shots.  \n",
        "\n",
        "Moving forward, the team wants to understand how the following strategy would impact the number of goals allowed:\n",
        "\n",
        "1.  Shots can be taken from 3 zones, zone A, B and C.\n",
        "1.  The team wants to employ a strategy to shift where shots are taken from.  They believe that they can restrict their opponents to the following: zone A accounts for 15% of the shots, Zone B accounts for 65% of the shots, and Zone C the remaining 20%\n",
        "1.  The shot success rates for zone A, B and C are 5%, 10% and 8% respectively\n",
        "1.  The Bruins expect to allow 2100 shots next season\n",
        "\n",
        "Run 100 experiments, where for each experiment, there are 2100 shots using the information provided above.\n",
        "\n",
        "Across the 100 experiments, how many times would the Bruins reduce the number of goals allowed relative to 167 from the prior season?\n",
        "\n",
        "Would you recommend the strategy?\n"
      ]
    },
    {
      "cell_type": "code",
      "metadata": {
        "id": "SmwC_gAR8pfY"
      },
      "source": [
        "# many ways to do this\n",
        "# break the problem down\n",
        "# for each shot, we need to pick a zone, and then associate the probability of the shot going in\n",
        "# each experiment will have 2100 shots\n",
        "# will run 100 experiments\n",
        "\n"
      ],
      "execution_count": null,
      "outputs": []
    },
    {
      "cell_type": "markdown",
      "metadata": {
        "id": "rOALJpBj8pfZ"
      },
      "source": [
        "# Part 3\n",
        "\n",
        "Let's say we know the number of events that occur in a given timeframe.  We can model this with the poisson distribution.\n",
        "\n"
      ]
    },
    {
      "cell_type": "code",
      "metadata": {
        "id": "8d2QwPzA8pfZ"
      },
      "source": [
        "# visitors to your website in a given day\n",
        "# expected value, # of trials\n",
        "\n",
        "\n",
        "# np.random.poisson(1200)"
      ],
      "execution_count": null,
      "outputs": []
    },
    {
      "cell_type": "code",
      "metadata": {
        "colab": {
          "base_uri": "https://localhost:8080/"
        },
        "id": "UZTPWX6p8pfa",
        "outputId": "a08bb829-f5ea-4322-ee08-134eec2315fa"
      },
      "source": [
        "# let's simulate for a week, and then a year\n",
        "week = np.random.poisson(1200, 7)\n",
        "year = np.random.poisson(1200, 365)\n",
        "print(week)\n",
        "#print(year)"
      ],
      "execution_count": null,
      "outputs": [
        {
          "output_type": "stream",
          "text": [
            "[1214 1218 1192 1177 1195 1225 1155]\n"
          ],
          "name": "stdout"
        }
      ]
    },
    {
      "cell_type": "code",
      "metadata": {
        "colab": {
          "base_uri": "https://localhost:8080/",
          "height": 333
        },
        "id": "_WKr0zMw8pfa",
        "outputId": "721c8fc7-0179-4399-e588-347fbfd2b745"
      },
      "source": [
        "# lets do a quick plot\n",
        "# you will dive much deeper into plotting in your next course\n",
        "plt.hist(year)"
      ],
      "execution_count": null,
      "outputs": [
        {
          "output_type": "execute_result",
          "data": {
            "text/plain": [
              "(array([  7.,  16.,  43.,  66., 101.,  79.,  38.,  13.,   1.,   1.]),\n",
              " array([1105. , 1126.4, 1147.8, 1169.2, 1190.6, 1212. , 1233.4, 1254.8,\n",
              "        1276.2, 1297.6, 1319. ]),\n",
              " <a list of 10 Patch objects>)"
            ]
          },
          "metadata": {
            "tags": []
          },
          "execution_count": 35
        },
        {
          "output_type": "display_data",
          "data": {
            "image/png": "[encoded data removed]",
            "text/plain": [
              "<Figure size 432x288 with 1 Axes>"
            ]
          },
          "metadata": {
            "tags": [],
            "needs_background": "light"
          }
        }
      ]
    },
    {
      "cell_type": "code",
      "metadata": {
        "colab": {
          "base_uri": "https://localhost:8080/",
          "height": 333
        },
        "id": "BL6jNnaT8pfa",
        "outputId": "da51b91d-631c-4a00-9b84-267038b82952"
      },
      "source": [
        "# Example\n",
        "\n",
        "# A cafe owner contacted your analytics firm to help understand capacity\n",
        "\n",
        "# In a given week, they sell 1250 bagels that are baked in-house\n",
        "# They will lose money if they do not have enough ingredients to satisfy demand\n",
        "\n",
        "# Over a 52 week period, how many weeks can they expect to sell 1300 or more bagels?\n",
        "\n",
        "bagels = np.random.poisson(1250, 52)\n",
        "plt.hist(bagels)"
      ],
      "execution_count": null,
      "outputs": [
        {
          "output_type": "execute_result",
          "data": {
            "text/plain": [
              "(array([ 1.,  0.,  0.,  1.,  4., 13., 13.,  8.,  8.,  4.]),\n",
              " array([1122., 1141., 1160., 1179., 1198., 1217., 1236., 1255., 1274.,\n",
              "        1293., 1312.]),\n",
              " <a list of 10 Patch objects>)"
            ]
          },
          "metadata": {
            "tags": []
          },
          "execution_count": 38
        },
        {
          "output_type": "display_data",
          "data": {
            "image/png": "[encoded data removed]",
            "text/plain": [
              "<Figure size 432x288 with 1 Axes>"
            ]
          },
          "metadata": {
            "tags": [],
            "needs_background": "light"
          }
        }
      ]
    },
    {
      "cell_type": "code",
      "metadata": {
        "id": "-OAKArxh8pfa"
      },
      "source": [
        ""
      ],
      "execution_count": null,
      "outputs": []
    },
    {
      "cell_type": "markdown",
      "metadata": {
        "id": "lTwJ85Aa8pfa"
      },
      "source": [
        "## Breakout Room Exercise\n",
        "\n",
        "The same cafe owner from above has re-engaged your analytics firm to help estimate employee expenses which are a function of the number of orders.  \n",
        "\n",
        "1.  The cafe is open 252 days a year\n",
        "1.  On average, they have 2200 orders a day\n",
        "1.  The owner has estimated that they need 1 employee for every 300 orders\n",
        "1.  The daily cost for an employee is $125/day\n",
        "\n",
        "Simulate this exercise 100 times.  What is the average annual employee cost?"
      ]
    },
    {
      "cell_type": "code",
      "metadata": {
        "id": "6HQ7SJiq8pfb"
      },
      "source": [
        ""
      ],
      "execution_count": null,
      "outputs": []
    },
    {
      "cell_type": "code",
      "metadata": {
        "id": "caGFsCts8pfb"
      },
      "source": [
        ""
      ],
      "execution_count": null,
      "outputs": []
    },
    {
      "cell_type": "code",
      "metadata": {
        "id": "ev78sp8P8pfb"
      },
      "source": [
        ""
      ],
      "execution_count": null,
      "outputs": []
    },
    {
      "cell_type": "code",
      "metadata": {
        "id": "C5YzNL6-8pfb"
      },
      "source": [
        ""
      ],
      "execution_count": null,
      "outputs": []
    }
  ]
}